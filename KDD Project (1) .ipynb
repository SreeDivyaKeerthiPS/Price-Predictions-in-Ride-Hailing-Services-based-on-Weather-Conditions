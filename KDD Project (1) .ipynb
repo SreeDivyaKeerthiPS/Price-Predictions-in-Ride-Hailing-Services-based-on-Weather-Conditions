{
 "cells": [
  {
   "cell_type": "markdown",
   "metadata": {},
   "source": [
    "# Team Name: Data Scouts\n",
    "### Team Members:\n",
    " \n",
    " -  Sai Harika Paluri                                                          \n",
    " -  Nikhil Kumar Mutyala                                              \n",
    " -  Sree Divya Keerthi Paravasthu Siddanthi                                     \n",
    " -  Ravi Theja Goalla   \n",
    " \n",
    " \n",
    "#  Project Title: Price prediction in ride-hailing services based on weather conditions\n",
    "\n",
    "## Project Description:\n",
    "Uber and Lyft's ride prices are not constant like public transport. They are greatly affected by the demand and supply of rides at a given time. So what exactly drives this demand? The first guess would be the time of the day; times around 9 am and 5 pm should see the highest surges on account of people commuting to work/home. Another guess would be the weather; rain/snow should cause more people to take rides.\n",
    "\n",
    "The data is approx. for a week of Nov '18 ( I actually have included data collected while I was testing the 'querying' application so might have data spread out over more than a week. I didn't consider this as a time-series problem so did not worry about regular interval. The chosen interval was to query as much as data possible without unnecessary redundancy. So data can go from end week of Nov to few in Dec)\n",
    "The Cab ride data covers various types of cabs for Uber & Lyft and their price for the given location. You can also find if there was any surge in the price during that time. Weather data contains weather attributes like temperature, rain, cloud, etc for all the locations taken into consideration."
   ]
  },
  {
   "cell_type": "markdown",
   "metadata": {},
   "source": [
    "#  DATA\n",
    "\n",
    "## Source of Data\n",
    "\n",
    "We have acquired this dataset from  kaggle https://www.kaggle.com/ravi72munde/uber-lyft-cab-prices."
   ]
  },
  {
   "cell_type": "markdown",
   "metadata": {},
   "source": [
    "## Description of Data"
   ]
  },
  {
   "cell_type": "markdown",
   "metadata": {},
   "source": [
    "The dataset contains 10 features along with the price for 693071 observations. Later we add few more derived features to this dataset.<br>The date is in timestamp format. So we change that timestamp into date format, the date attribute is added to the dataset and timestamp attribute is removed. Few attributes are added like hour, fare_per_mile. The description for the 10 features is given below:<br>"
   ]
  },
  {
   "cell_type": "markdown",
   "metadata": {},
   "source": [
    " <style>\n",
    "table {\n",
    "  font-family: arial, sans-serif;\n",
    "  border-collapse: collapse;\n",
    "  width: 100%;\n",
    "        }\n",
    "td, th {\n",
    "  border: 1px solid #dddddd;\n",
    "  text-align: left;\n",
    "  padding: 8px;\n",
    "}\n",
    "</style>\n",
    "  <table>\n",
    "  <tr>\n",
    "    <th>Feature</th>\n",
    "    <th>Description</th>\n",
    "    </tr>\n",
    "  <tr>\n",
    "    <td>Distance</td>\n",
    "    <td>Distance between source and destination of the cab ride</td>\n",
    "    </tr>\n",
    "  <tr>\n",
    "    <td>cab_type</td>\n",
    "    <td>The type of uber car or lyft booked.</td>\n",
    "    </tr>\n",
    "  <tr>\n",
    "    <td>time_stamp</td>\n",
    "    <td>Measured timestamp</td>\n",
    "    </tr>\n",
    "  <tr>\n",
    "    <td>destination</td>\n",
    "    <td>The destination of the cab ride</td>\n",
    "    </tr>\n",
    "  <tr>\n",
    "    <td>source</td>\n",
    "    <td>The source of a cab ride</td>\n",
    "    </tr>\n",
    "  <tr>\n",
    "    <td>price</td>\n",
    "    <td>Total estimated price of the cab ride.</td>\n",
    "    </tr><tr>\n",
    "    <td>name</td>\n",
    "    <td>Name of the Uber/Lyft product</td>\n",
    "    </tr>\n",
    "    <tr>\n",
    "    <td>Surge_multiplier</td>\n",
    "    <td>This is the factor by which a normal cab fare is multiplied.If it is 1 it means that there is no surge.</td>\n",
    "    </tr>\n",
    "    <tr>\n",
    "    <td>id</td>\n",
    "    <td>Unique id per ride</td>\n",
    "    </tr>\n",
    "    <tr>\n",
    "    <td>product_id</td>\n",
    "    <td>Unique id of a particular product of Lyft or Uber. </td>\n",
    "    </tr>\n",
    "</table>\n",
    "\n",
    "The other dataset we are merging with cabs_rides is weather_data.We have 8 features and 6276 entries in this.We use time_stamp feature to merge with the cab_rides data. \n",
    "\n",
    "<style>\n",
    "table {\n",
    "  font-family: arial, sans-serif;\n",
    "  border-collapse: collapse;\n",
    "  width: 100%;\n",
    "        }\n",
    "td, th {\n",
    "  border: 1px solid #dddddd;\n",
    "  text-align: left;\n",
    "  padding: 8px;\n",
    "}\n",
    "</style>\n",
    "  <table>\n",
    "  <tr>\n",
    "    <th>Feature</th>\n",
    "    <th>Description</th>\n",
    "    </tr>\n",
    "  <tr>\n",
    "    <td>temp</td>\n",
    "    <td>Average temperature for a particular day</td>\n",
    "    </tr>\n",
    "  <tr>\n",
    "    <td>location</td>\n",
    "    <td>Aread in boston where the temperature was recorded.</td>\n",
    "    </tr>\n",
    "  <tr>\n",
    "    <td>clouds</td>\n",
    "    <td>Measured timestamp</td>\n",
    "    </tr>\n",
    "  <tr>\n",
    "    <td>pressure</td>\n",
    "    <td>The destination of the cab ride</td>\n",
    "    </tr>\n",
    "  <tr>\n",
    "    <td>rain</td>\n",
    "    <td>Amount of precipitation</td>\n",
    "    </tr>\n",
    "  <tr>\n",
    "    <td>time_stamp</td>\n",
    "    <td>Measured timestamp in a day</td>\n",
    "    </tr>\n",
    "    <tr>\n",
    "    <td>Humidity</td>\n",
    "    <td>Humidity percentage in the climate.</td>\n",
    "    </tr>\n",
    "    <tr>\n",
    "    <td>Wind</td>\n",
    "    <td>Wind speed recorded for a particular day</td>\n",
    "    </tr>\n",
    "    </table>\n",
    "\n"
   ]
  },
  {
   "cell_type": "markdown",
   "metadata": {},
   "source": [
    "# CRISM-DM PROCESS\n",
    "\n",
    "## Importing the dataset"
   ]
  },
  {
   "cell_type": "code",
   "execution_count": 12,
   "metadata": {},
   "outputs": [],
   "source": [
    "#Importing the neccessary libraries\n",
    "import pandas as pd\n",
    "import numpy as np\n",
    "import seaborn as sns\n",
    "import matplotlib.pyplot as plt\n",
    "from sklearn import preprocessing"
   ]
  },
  {
   "cell_type": "code",
   "execution_count": 13,
   "metadata": {
    "scrolled": true
   },
   "outputs": [],
   "source": [
    "#Importing our dataset\n",
    "df_cab=pd.read_csv('cab_rides.csv')\n",
    "#Creating an index label for the dataset\n",
    "df_cab.reset_index(drop=True, inplace=True)"
   ]
  },
  {
   "cell_type": "markdown",
   "metadata": {},
   "source": [
    " We need to identify the charecteristics of our dataset .For this we use three methods:-             \n",
    " info()-Used for identifying the different features and data types in a dataset.<br>\n",
    " shape()-We used this method to get an idea of  the rows and columns in a dataframe.<br>\n",
    " head()-We  used this method to examine the first few rows of the dataset<br>\n",
    " describe()-We used this method to identify the summary statistic's of all the features of the dataset."
   ]
  },
  {
   "cell_type": "code",
   "execution_count": 3,
   "metadata": {},
   "outputs": [
    {
     "name": "stdout",
     "output_type": "stream",
     "text": [
      "<class 'pandas.core.frame.DataFrame'>\n",
      "RangeIndex: 693071 entries, 0 to 693070\n",
      "Data columns (total 10 columns):\n",
      "distance            693071 non-null float64\n",
      "cab_type            693071 non-null object\n",
      "time_stamp          693071 non-null int64\n",
      "destination         693071 non-null object\n",
      "source              693071 non-null object\n",
      "price               637976 non-null float64\n",
      "surge_multiplier    693071 non-null float64\n",
      "id                  693071 non-null object\n",
      "product_id          693071 non-null object\n",
      "name                693071 non-null object\n",
      "dtypes: float64(3), int64(1), object(6)\n",
      "memory usage: 52.9+ MB\n"
     ]
    }
   ],
   "source": [
    "df_cab.info()"
   ]
  },
  {
   "cell_type": "code",
   "execution_count": 4,
   "metadata": {},
   "outputs": [
    {
     "data": {
      "text/plain": [
       "(693071, 10)"
      ]
     },
     "execution_count": 4,
     "metadata": {},
     "output_type": "execute_result"
    }
   ],
   "source": [
    "df_cab.shape"
   ]
  },
  {
   "cell_type": "code",
   "execution_count": 5,
   "metadata": {},
   "outputs": [
    {
     "data": {
      "text/plain": [
       "(10000, 10)"
      ]
     },
     "execution_count": 5,
     "metadata": {},
     "output_type": "execute_result"
    }
   ],
   "source": [
    "df_cab = df_cab.iloc[0:10000, :]\n",
    "df_cab.shape"
   ]
  },
  {
   "cell_type": "code",
   "execution_count": 6,
   "metadata": {},
   "outputs": [
    {
     "data": {
      "text/html": [
       "<div>\n",
       "<style scoped>\n",
       "    .dataframe tbody tr th:only-of-type {\n",
       "        vertical-align: middle;\n",
       "    }\n",
       "\n",
       "    .dataframe tbody tr th {\n",
       "        vertical-align: top;\n",
       "    }\n",
       "\n",
       "    .dataframe thead th {\n",
       "        text-align: right;\n",
       "    }\n",
       "</style>\n",
       "<table border=\"1\" class=\"dataframe\">\n",
       "  <thead>\n",
       "    <tr style=\"text-align: right;\">\n",
       "      <th></th>\n",
       "      <th>distance</th>\n",
       "      <th>cab_type</th>\n",
       "      <th>time_stamp</th>\n",
       "      <th>destination</th>\n",
       "      <th>source</th>\n",
       "      <th>price</th>\n",
       "      <th>surge_multiplier</th>\n",
       "      <th>id</th>\n",
       "      <th>product_id</th>\n",
       "      <th>name</th>\n",
       "    </tr>\n",
       "  </thead>\n",
       "  <tbody>\n",
       "    <tr>\n",
       "      <th>0</th>\n",
       "      <td>0.44</td>\n",
       "      <td>Lyft</td>\n",
       "      <td>1544952607890</td>\n",
       "      <td>North Station</td>\n",
       "      <td>Haymarket Square</td>\n",
       "      <td>5.0</td>\n",
       "      <td>1.0</td>\n",
       "      <td>424553bb-7174-41ea-aeb4-fe06d4f4b9d7</td>\n",
       "      <td>lyft_line</td>\n",
       "      <td>Shared</td>\n",
       "    </tr>\n",
       "    <tr>\n",
       "      <th>1</th>\n",
       "      <td>0.44</td>\n",
       "      <td>Lyft</td>\n",
       "      <td>1543284023677</td>\n",
       "      <td>North Station</td>\n",
       "      <td>Haymarket Square</td>\n",
       "      <td>11.0</td>\n",
       "      <td>1.0</td>\n",
       "      <td>4bd23055-6827-41c6-b23b-3c491f24e74d</td>\n",
       "      <td>lyft_premier</td>\n",
       "      <td>Lux</td>\n",
       "    </tr>\n",
       "  </tbody>\n",
       "</table>\n",
       "</div>"
      ],
      "text/plain": [
       "   distance cab_type     time_stamp    destination            source  price  \\\n",
       "0      0.44     Lyft  1544952607890  North Station  Haymarket Square    5.0   \n",
       "1      0.44     Lyft  1543284023677  North Station  Haymarket Square   11.0   \n",
       "\n",
       "   surge_multiplier                                    id    product_id  \\\n",
       "0               1.0  424553bb-7174-41ea-aeb4-fe06d4f4b9d7     lyft_line   \n",
       "1               1.0  4bd23055-6827-41c6-b23b-3c491f24e74d  lyft_premier   \n",
       "\n",
       "     name  \n",
       "0  Shared  \n",
       "1     Lux  "
      ]
     },
     "execution_count": 6,
     "metadata": {},
     "output_type": "execute_result"
    }
   ],
   "source": [
    "df_cab.head(2)"
   ]
  },
  {
   "cell_type": "code",
   "execution_count": 7,
   "metadata": {},
   "outputs": [
    {
     "data": {
      "text/html": [
       "<div>\n",
       "<style scoped>\n",
       "    .dataframe tbody tr th:only-of-type {\n",
       "        vertical-align: middle;\n",
       "    }\n",
       "\n",
       "    .dataframe tbody tr th {\n",
       "        vertical-align: top;\n",
       "    }\n",
       "\n",
       "    .dataframe thead th {\n",
       "        text-align: right;\n",
       "    }\n",
       "</style>\n",
       "<table border=\"1\" class=\"dataframe\">\n",
       "  <thead>\n",
       "    <tr style=\"text-align: right;\">\n",
       "      <th></th>\n",
       "      <th>distance</th>\n",
       "      <th>time_stamp</th>\n",
       "      <th>price</th>\n",
       "      <th>surge_multiplier</th>\n",
       "    </tr>\n",
       "  </thead>\n",
       "  <tbody>\n",
       "    <tr>\n",
       "      <th>count</th>\n",
       "      <td>10000.00000</td>\n",
       "      <td>1.000000e+04</td>\n",
       "      <td>9227.000000</td>\n",
       "      <td>10000.000000</td>\n",
       "    </tr>\n",
       "    <tr>\n",
       "      <th>mean</th>\n",
       "      <td>2.13824</td>\n",
       "      <td>1.544030e+12</td>\n",
       "      <td>16.324753</td>\n",
       "      <td>1.012875</td>\n",
       "    </tr>\n",
       "    <tr>\n",
       "      <th>std</th>\n",
       "      <td>1.12805</td>\n",
       "      <td>6.854128e+08</td>\n",
       "      <td>9.137386</td>\n",
       "      <td>0.089114</td>\n",
       "    </tr>\n",
       "    <tr>\n",
       "      <th>min</th>\n",
       "      <td>0.30000</td>\n",
       "      <td>1.543207e+12</td>\n",
       "      <td>2.500000</td>\n",
       "      <td>1.000000</td>\n",
       "    </tr>\n",
       "    <tr>\n",
       "      <th>25%</th>\n",
       "      <td>1.25000</td>\n",
       "      <td>1.543439e+12</td>\n",
       "      <td>9.000000</td>\n",
       "      <td>1.000000</td>\n",
       "    </tr>\n",
       "    <tr>\n",
       "      <th>50%</th>\n",
       "      <td>2.05000</td>\n",
       "      <td>1.543727e+12</td>\n",
       "      <td>13.500000</td>\n",
       "      <td>1.000000</td>\n",
       "    </tr>\n",
       "    <tr>\n",
       "      <th>75%</th>\n",
       "      <td>2.86000</td>\n",
       "      <td>1.544811e+12</td>\n",
       "      <td>22.500000</td>\n",
       "      <td>1.000000</td>\n",
       "    </tr>\n",
       "    <tr>\n",
       "      <th>max</th>\n",
       "      <td>7.46000</td>\n",
       "      <td>1.545161e+12</td>\n",
       "      <td>67.500000</td>\n",
       "      <td>2.500000</td>\n",
       "    </tr>\n",
       "  </tbody>\n",
       "</table>\n",
       "</div>"
      ],
      "text/plain": [
       "          distance    time_stamp        price  surge_multiplier\n",
       "count  10000.00000  1.000000e+04  9227.000000      10000.000000\n",
       "mean       2.13824  1.544030e+12    16.324753          1.012875\n",
       "std        1.12805  6.854128e+08     9.137386          0.089114\n",
       "min        0.30000  1.543207e+12     2.500000          1.000000\n",
       "25%        1.25000  1.543439e+12     9.000000          1.000000\n",
       "50%        2.05000  1.543727e+12    13.500000          1.000000\n",
       "75%        2.86000  1.544811e+12    22.500000          1.000000\n",
       "max        7.46000  1.545161e+12    67.500000          2.500000"
      ]
     },
     "execution_count": 7,
     "metadata": {},
     "output_type": "execute_result"
    }
   ],
   "source": [
    "df_cab.describe()"
   ]
  },
  {
   "cell_type": "markdown",
   "metadata": {},
   "source": [
    "# DATA CLEANING  AND PREPROCCESSING"
   ]
  },
  {
   "cell_type": "markdown",
   "metadata": {},
   "source": [
    "For data cleaning these were the steps that we followed:-<br>\n",
    "1.We identified the null values in our dataset.<br>\n",
    "2.We identified the count's of different features.<br>\n",
    "3.We performed imputation of the null  price column using fare per pile."
   ]
  },
  {
   "cell_type": "code",
   "execution_count": 8,
   "metadata": {},
   "outputs": [
    {
     "data": {
      "text/plain": [
       "distance              0\n",
       "cab_type              0\n",
       "time_stamp            0\n",
       "destination           0\n",
       "source                0\n",
       "price               773\n",
       "surge_multiplier      0\n",
       "id                    0\n",
       "product_id            0\n",
       "name                  0\n",
       "dtype: int64"
      ]
     },
     "execution_count": 8,
     "metadata": {},
     "output_type": "execute_result"
    }
   ],
   "source": [
    "df_cab.isnull().sum()"
   ]
  },
  {
   "cell_type": "code",
   "execution_count": 9,
   "metadata": {},
   "outputs": [
    {
     "data": {
      "text/plain": [
       "Uber    5427\n",
       "Lyft    4573\n",
       "Name: cab_type, dtype: int64"
      ]
     },
     "execution_count": 9,
     "metadata": {},
     "output_type": "execute_result"
    }
   ],
   "source": [
    "df_cab['cab_type'].value_counts()"
   ]
  },
  {
   "cell_type": "code",
   "execution_count": 10,
   "metadata": {},
   "outputs": [
    {
     "data": {
      "text/plain": [
       "Northeastern University    971\n",
       "North End                  958\n",
       "Fenway                     889\n",
       "North Station              849\n",
       "Beacon Hill                837\n",
       "West End                   824\n",
       "Boston University          803\n",
       "Back Bay                   790\n",
       "Haymarket Square           788\n",
       "South Station              786\n",
       "Theatre District           763\n",
       "Financial District         742\n",
       "Name: destination, dtype: int64"
      ]
     },
     "execution_count": 10,
     "metadata": {},
     "output_type": "execute_result"
    }
   ],
   "source": [
    "df_cab['destination'].value_counts()"
   ]
  },
  {
   "cell_type": "code",
   "execution_count": 11,
   "metadata": {},
   "outputs": [
    {
     "data": {
      "text/plain": [
       "North Station              954\n",
       "Theatre District           920\n",
       "Back Bay                   905\n",
       "North End                  865\n",
       "Fenway                     855\n",
       "Financial District         844\n",
       "Haymarket Square           842\n",
       "West End                   807\n",
       "South Station              797\n",
       "Beacon Hill                765\n",
       "Northeastern University    750\n",
       "Boston University          696\n",
       "Name: source, dtype: int64"
      ]
     },
     "execution_count": 11,
     "metadata": {},
     "output_type": "execute_result"
    }
   ],
   "source": [
    "df_cab['source'].value_counts()"
   ]
  },
  {
   "cell_type": "code",
   "execution_count": 12,
   "metadata": {},
   "outputs": [
    {
     "data": {
      "text/plain": [
       "1.00    9722\n",
       "1.25     150\n",
       "1.50      58\n",
       "1.75      35\n",
       "2.00      33\n",
       "2.50       2\n",
       "Name: surge_multiplier, dtype: int64"
      ]
     },
     "execution_count": 12,
     "metadata": {},
     "output_type": "execute_result"
    }
   ],
   "source": [
    "df_cab['surge_multiplier'].value_counts()"
   ]
  },
  {
   "cell_type": "code",
   "execution_count": 13,
   "metadata": {},
   "outputs": [
    {
     "data": {
      "text/plain": [
       "Black           781\n",
       "UberPool        778\n",
       "Black SUV       776\n",
       "UberXL          775\n",
       "UberX           774\n",
       "Taxi            773\n",
       "WAV             770\n",
       "Shared          769\n",
       "Lux Black XL    766\n",
       "Lux             762\n",
       "Lyft XL         762\n",
       "Lyft            757\n",
       "Lux Black       757\n",
       "Name: name, dtype: int64"
      ]
     },
     "execution_count": 13,
     "metadata": {},
     "output_type": "execute_result"
    }
   ],
   "source": [
    "df_cab['name'].value_counts()"
   ]
  },
  {
   "cell_type": "markdown",
   "metadata": {},
   "source": [
    "We noticed that the time_stamp  attribute is not in a proper format so we converted it into a proper format.We also introduced a new attribute called fare_per_mile .This value was obtained by dividing the cab price and distance covered per ride."
   ]
  },
  {
   "cell_type": "code",
   "execution_count": 14,
   "metadata": {},
   "outputs": [],
   "source": [
    "import datetime\n",
    "#convert 13digit time stamp to datetime format\n",
    "df_cab['time']= pd.to_datetime(df_cab['time_stamp']/1000, unit='s')\n",
    "df_cab['date']= df_cab['time'].dt.date\n",
    "#extract hours only\n",
    "df_cab['fare_per_mile']= round(df_cab.price/df_cab.distance,2)"
   ]
  },
  {
   "cell_type": "code",
   "execution_count": 15,
   "metadata": {},
   "outputs": [
    {
     "data": {
      "text/html": [
       "<div>\n",
       "<style scoped>\n",
       "    .dataframe tbody tr th:only-of-type {\n",
       "        vertical-align: middle;\n",
       "    }\n",
       "\n",
       "    .dataframe tbody tr th {\n",
       "        vertical-align: top;\n",
       "    }\n",
       "\n",
       "    .dataframe thead th {\n",
       "        text-align: right;\n",
       "    }\n",
       "</style>\n",
       "<table border=\"1\" class=\"dataframe\">\n",
       "  <thead>\n",
       "    <tr style=\"text-align: right;\">\n",
       "      <th></th>\n",
       "      <th>distance</th>\n",
       "      <th>cab_type</th>\n",
       "      <th>time_stamp</th>\n",
       "      <th>destination</th>\n",
       "      <th>source</th>\n",
       "      <th>price</th>\n",
       "      <th>surge_multiplier</th>\n",
       "      <th>id</th>\n",
       "      <th>product_id</th>\n",
       "      <th>name</th>\n",
       "      <th>time</th>\n",
       "      <th>date</th>\n",
       "      <th>fare_per_mile</th>\n",
       "    </tr>\n",
       "  </thead>\n",
       "  <tbody>\n",
       "    <tr>\n",
       "      <th>0</th>\n",
       "      <td>0.44</td>\n",
       "      <td>Lyft</td>\n",
       "      <td>1544952607890</td>\n",
       "      <td>North Station</td>\n",
       "      <td>Haymarket Square</td>\n",
       "      <td>5.0</td>\n",
       "      <td>1.0</td>\n",
       "      <td>424553bb-7174-41ea-aeb4-fe06d4f4b9d7</td>\n",
       "      <td>lyft_line</td>\n",
       "      <td>Shared</td>\n",
       "      <td>2018-12-16 09:30:07.890000105</td>\n",
       "      <td>2018-12-16</td>\n",
       "      <td>11.36</td>\n",
       "    </tr>\n",
       "    <tr>\n",
       "      <th>1</th>\n",
       "      <td>0.44</td>\n",
       "      <td>Lyft</td>\n",
       "      <td>1543284023677</td>\n",
       "      <td>North Station</td>\n",
       "      <td>Haymarket Square</td>\n",
       "      <td>11.0</td>\n",
       "      <td>1.0</td>\n",
       "      <td>4bd23055-6827-41c6-b23b-3c491f24e74d</td>\n",
       "      <td>lyft_premier</td>\n",
       "      <td>Lux</td>\n",
       "      <td>2018-11-27 02:00:23.677000046</td>\n",
       "      <td>2018-11-27</td>\n",
       "      <td>25.00</td>\n",
       "    </tr>\n",
       "  </tbody>\n",
       "</table>\n",
       "</div>"
      ],
      "text/plain": [
       "   distance cab_type     time_stamp    destination            source  price  \\\n",
       "0      0.44     Lyft  1544952607890  North Station  Haymarket Square    5.0   \n",
       "1      0.44     Lyft  1543284023677  North Station  Haymarket Square   11.0   \n",
       "\n",
       "   surge_multiplier                                    id    product_id  \\\n",
       "0               1.0  424553bb-7174-41ea-aeb4-fe06d4f4b9d7     lyft_line   \n",
       "1               1.0  4bd23055-6827-41c6-b23b-3c491f24e74d  lyft_premier   \n",
       "\n",
       "     name                          time        date  fare_per_mile  \n",
       "0  Shared 2018-12-16 09:30:07.890000105  2018-12-16          11.36  \n",
       "1     Lux 2018-11-27 02:00:23.677000046  2018-11-27          25.00  "
      ]
     },
     "execution_count": 15,
     "metadata": {},
     "output_type": "execute_result"
    }
   ],
   "source": [
    "#To check if cab data has changed.\n",
    "df_cab.head(2)"
   ]
  },
  {
   "cell_type": "code",
   "execution_count": 16,
   "metadata": {},
   "outputs": [],
   "source": [
    "#After conversion to a new column time we can delete the exisitng column\n",
    "del df_cab['time_stamp']"
   ]
  },
  {
   "cell_type": "markdown",
   "metadata": {},
   "source": [
    "We are using an imputation technique to replace the missing price values.We noticed that the missing values in the dataset are that of the type Uber-Taxi.The rate per mile in Boston for an UBER of the type 'TAXI'is a constant.The rate doesnt change irespective of the surge or weather conditions.Hence by multiplying the fare per mile and distance traveled in an Uber taxi,we were able to obtain the missing price."
   ]
  },
  {
   "cell_type": "code",
   "execution_count": 21,
   "metadata": {},
   "outputs": [],
   "source": [
    "#Replacing null values.\n",
    "df_cab['fare_per_mile']=df_cab['fare_per_mile'].astype(float)\n",
    "df_cab['fare_per_mile'].fillna('2.8',inplace=True)\n",
    "df_cab['price'] = df_cab['fare_per_mile']*df_cab['distance']"
   ]
  },
  {
   "cell_type": "code",
   "execution_count": 22,
   "metadata": {},
   "outputs": [
    {
     "data": {
      "text/plain": [
       "0"
      ]
     },
     "execution_count": 22,
     "metadata": {},
     "output_type": "execute_result"
    }
   ],
   "source": [
    "#After replacement checking if the change is reflected in the dataset.\n",
    "df_cab.price.isnull().sum()"
   ]
  },
  {
   "cell_type": "markdown",
   "metadata": {},
   "source": [
    "# Visualizations for Data Preprocessing"
   ]
  },
  {
   "cell_type": "markdown",
   "metadata": {},
   "source": [
    "Visualizations help us understand the dsitribution of the  data better.For this purpose we explored several graphs ranging from heatmaps to count plots and bar plots."
   ]
  },
  {
   "cell_type": "code",
   "execution_count": 24,
   "metadata": {},
   "outputs": [
    {
     "data": {
      "text/plain": [
       "<matplotlib.axes._subplots.AxesSubplot at 0x2df484a82b0>"
      ]
     },
     "execution_count": 24,
     "metadata": {},
     "output_type": "execute_result"
    },
    {
     "data": {
      "image/png": "[encoded data removed]",
      "text/plain": [
       "<Figure size 1152x720 with 2 Axes>"
      ]
     },
     "metadata": {
      "needs_background": "light"
     },
     "output_type": "display_data"
    }
   ],
   "source": [
    "#Heatmap from searborn library\n",
    "df_corr = df_cab.corr()\n",
    "plt.figure( figsize = (16,10))\n",
    "sns.heatmap(df_corr, cmap = 'coolwarm',annot = True)"
   ]
  },
  {
   "cell_type": "markdown",
   "metadata": {},
   "source": [
    "This heatmap gave us an idea of the highly correlated variables.We observe that apart from the variable fare_per_mile .Distance and price have postive correlation whereas surge_multiper has positive correlation with price and negatve correlation with distance."
   ]
  },
  {
   "cell_type": "code",
   "execution_count": 14,
   "metadata": {},
   "outputs": [
    {
     "data": {
      "image/png": "[encoded data removed]",
      "text/plain": [
       "<Figure size 432x288 with 1 Axes>"
      ]
     },
     "metadata": {
      "needs_background": "light"
     },
     "output_type": "display_data"
    }
   ],
   "source": [
    "#Countplot  to display Uber Vs Lyft \n",
    "x=['Uber','Lyft']\n",
    "y = [df_cab.cab_type[(df_cab.cab_type)=='Uber'].count(),df_cab.cab_type[(df_cab.cab_type)=='Lyft'].count()]\n",
    "vis1= sns.barplot(x,y,palette='Pastel1')"
   ]
  },
  {
   "cell_type": "markdown",
   "metadata": {},
   "source": [
    "# Data preparation for Data preprocessing"
   ]
  },
  {
   "cell_type": "markdown",
   "metadata": {},
   "source": [
    "We wanted to answer certain questions such as How does weather effect the surge? Does  it solely depend on weather only? and \n",
    "How each weather attribute effects surge?.This is when we realised that to answer these questions we need to merge our existing cab_rides dataset with weather data for each day in Boston.We used the time_stamp attribute as the common attribute between the two datasets.<br>\n",
    "<b>NOTE:- </b><I>We use date to join both our data sets.As weather is recorded for an average day.</I>"
   ]
  },
  {
   "cell_type": "code",
   "execution_count": 10,
   "metadata": {},
   "outputs": [
    {
     "data": {
      "text/html": [
       "<div>\n",
       "<style scoped>\n",
       "    .dataframe tbody tr th:only-of-type {\n",
       "        vertical-align: middle;\n",
       "    }\n",
       "\n",
       "    .dataframe tbody tr th {\n",
       "        vertical-align: top;\n",
       "    }\n",
       "\n",
       "    .dataframe thead th {\n",
       "        text-align: right;\n",
       "    }\n",
       "</style>\n",
       "<table border=\"1\" class=\"dataframe\">\n",
       "  <thead>\n",
       "    <tr style=\"text-align: right;\">\n",
       "      <th></th>\n",
       "      <th>temp</th>\n",
       "      <th>location</th>\n",
       "      <th>clouds</th>\n",
       "      <th>pressure</th>\n",
       "      <th>rain</th>\n",
       "      <th>time_stamp</th>\n",
       "      <th>humidity</th>\n",
       "      <th>wind</th>\n",
       "    </tr>\n",
       "  </thead>\n",
       "  <tbody>\n",
       "    <tr>\n",
       "      <th>0</th>\n",
       "      <td>42.42</td>\n",
       "      <td>Back Bay</td>\n",
       "      <td>1.0</td>\n",
       "      <td>1012.14</td>\n",
       "      <td>0.1228</td>\n",
       "      <td>1545003901</td>\n",
       "      <td>0.77</td>\n",
       "      <td>11.25</td>\n",
       "    </tr>\n",
       "    <tr>\n",
       "      <th>1</th>\n",
       "      <td>42.43</td>\n",
       "      <td>Beacon Hill</td>\n",
       "      <td>1.0</td>\n",
       "      <td>1012.15</td>\n",
       "      <td>0.1846</td>\n",
       "      <td>1545003901</td>\n",
       "      <td>0.76</td>\n",
       "      <td>11.32</td>\n",
       "    </tr>\n",
       "  </tbody>\n",
       "</table>\n",
       "</div>"
      ],
      "text/plain": [
       "    temp     location  clouds  pressure    rain  time_stamp  humidity   wind\n",
       "0  42.42     Back Bay     1.0   1012.14  0.1228  1545003901      0.77  11.25\n",
       "1  42.43  Beacon Hill     1.0   1012.15  0.1846  1545003901      0.76  11.32"
      ]
     },
     "execution_count": 10,
     "metadata": {},
     "output_type": "execute_result"
    }
   ],
   "source": [
    "#Import the new dataset and view the attributes\n",
    "df_weather=pd.read_csv('weather.csv')\n",
    "df_weather.head(2)"
   ]
  },
  {
   "cell_type": "code",
   "execution_count": 11,
   "metadata": {},
   "outputs": [],
   "source": [
    "#Splitting the time_stamp attribute in weather to two attributes which are time and data\n",
    "df_weather['time']= pd.to_datetime(df_weather['time_stamp'], unit='s')\n",
    "df_weather['date']=df_weather['time'].dt.date\n"
   ]
  },
  {
   "cell_type": "code",
   "execution_count": 28,
   "metadata": {},
   "outputs": [],
   "source": [
    "#Here we merge based on the date in each dataset.\n",
    "df_merged= pd.merge(df_cab,df_weather, right_on='date',left_on='date',how='left')"
   ]
  },
  {
   "cell_type": "markdown",
   "metadata": {},
   "source": [
    "In our newly formed merged dataset we perform info(),describe() and shape() to understand the data."
   ]
  },
  {
   "cell_type": "code",
   "execution_count": 29,
   "metadata": {},
   "outputs": [
    {
     "name": "stdout",
     "output_type": "stream",
     "text": [
      "<class 'pandas.core.frame.DataFrame'>\n",
      "Int64Index: 4686132 entries, 0 to 4686131\n",
      "Data columns (total 21 columns):\n",
      "distance            float64\n",
      "cab_type            object\n",
      "destination         object\n",
      "source              object\n",
      "price               float64\n",
      "surge_multiplier    float64\n",
      "id                  object\n",
      "product_id          object\n",
      "name                object\n",
      "time_x              datetime64[ns]\n",
      "date                object\n",
      "fare_per_mile       float64\n",
      "temp                float64\n",
      "location            object\n",
      "clouds              float64\n",
      "pressure            float64\n",
      "rain                float64\n",
      "time_stamp          int64\n",
      "humidity            float64\n",
      "wind                float64\n",
      "time_y              datetime64[ns]\n",
      "dtypes: datetime64[ns](2), float64(10), int64(1), object(8)\n",
      "memory usage: 786.6+ MB\n"
     ]
    }
   ],
   "source": [
    "df_merged.info()"
   ]
  },
  {
   "cell_type": "code",
   "execution_count": null,
   "metadata": {},
   "outputs": [],
   "source": [
    "df_merged.shape"
   ]
  },
  {
   "cell_type": "markdown",
   "metadata": {},
   "source": [
    "# Transformations in Data Preprocessing\n",
    "\n",
    "In this specific stage we are getting our data ready inorder to apply machine learning models.We first need to split our data into train and test set so that we can apply changes to only the relevant features.Here price is the target variable and the other features excluding time are predictor variables."
   ]
  },
  {
   "cell_type": "code",
   "execution_count": null,
   "metadata": {},
   "outputs": [],
   "source": [
    "#Importing neccessary modules from sklearn\n",
    "from sklearn.model_selection import train_test_split\n",
    "df_merged['rain'].fillna(0,inplace=True)\n",
    "#Since price is the target variable\n",
    "df_X1 = df_merged.loc[:, df_merged.columns != 'price']\n",
    "df_X2 = df_X1.loc[:, df_X1.columns != 'time_x']\n",
    "df_X = df_X2.loc[:, df_X2.columns != 'time_y']\n",
    "df_y = df_merged[['price']]\n",
    "X_train, X_test, y_train, y_test = train_test_split(df_X, df_y, test_size=0.3, random_state=42)\n",
    "print(X_train.count())\n",
    "print(X_test.count())"
   ]
  },
  {
   "cell_type": "markdown",
   "metadata": {},
   "source": [
    "### Standardization\n",
    "We want to apply standardization on our variables before fitting it into a model and performing prediction.The method we chose is StandarScalar.We need to make sure that the categorical variables are encoded.We use nominal encoder method for that purpose."
   ]
  },
  {
   "cell_type": "code",
   "execution_count": null,
   "metadata": {},
   "outputs": [],
   "source": [
    "#Performing ordinal encoding\n",
    "x_norm_train = pd.get_dummies(X_train)\n",
    "x_norm_test = pd.get_dummies(X_test)"
   ]
  },
  {
   "cell_type": "code",
   "execution_count": null,
   "metadata": {},
   "outputs": [],
   "source": [
    "x_norm_train.info()"
   ]
  },
  {
   "cell_type": "code",
   "execution_count": null,
   "metadata": {},
   "outputs": [],
   "source": [
    "#Performing normalization on all the variables in the dataset\n",
    "from sklearn.preprocessing import StandardScaler\n",
    "scaler = StandardScaler()\n",
    "scaler.fit(x_norm_train)\n",
    "x_std_train = scaler.transform(x_norm_train)\n",
    "x_std_test = scaler.transform(x_norm_test)"
   ]
  },
  {
   "cell_type": "code",
   "execution_count": null,
   "metadata": {},
   "outputs": [],
   "source": [
    "#Printing mean and standard deviation for observation purpose\n",
    "print('Mean:',np.mean(x_std_train))\n",
    "print('Standard Deviation',np.std(x_std_train))\n",
    "print('Mean:',np.mean(x_std_test))\n",
    "print('Standard Deviation',np.std(x_std_test))"
   ]
  },
  {
   "cell_type": "code",
   "execution_count": null,
   "metadata": {},
   "outputs": [],
   "source": [
    "#Creation of a dataframe from the normalized values in test and train.\n",
    "df_x_std_train = pd.DataFrame(x_std_train, columns=x_norm_train.columns)\n",
    "df_x_std_test = pd.DataFrame(x_std_test, columns=x_norm_test.columns)"
   ]
  },
  {
   "cell_type": "markdown",
   "metadata": {},
   "source": [
    "### Principal Component Analysis\n",
    "Principal component analysis is a tool used for dimensionality reduction.Since we have a a lot of variables it will be an aid to figure out the most important ones.It is always more useful to identify the data interms of its principal compoennets rather than a normal x-y-line.The directions where there are most variance and the directions where data is most spread out usually turn out to be the principal components."
   ]
  },
  {
   "cell_type": "code",
   "execution_count": null,
   "metadata": {},
   "outputs": [],
   "source": [
    "#import neccessary pca librariers\n",
    "from sklearn.decomposition import PCA\n",
    "pca = PCA(.95)"
   ]
  },
  {
   "cell_type": "code",
   "execution_count": null,
   "metadata": {},
   "outputs": [],
   "source": [
    "#Fitting the normalized train data set to a pc model\n",
    "pca.fit(df_x_std_train)"
   ]
  },
  {
   "cell_type": "code",
   "execution_count": null,
   "metadata": {},
   "outputs": [],
   "source": [
    "#Gives us the principal components of the dataset.\n",
    "pca.n_components_"
   ]
  },
  {
   "cell_type": "code",
   "execution_count": null,
   "metadata": {},
   "outputs": [],
   "source": [
    "#Using pca transforming our existing train and test data set\n",
    "df_x_std_train = pca.transform(df_x_std_train)\n",
    "df_x_std_test = pca.transform(df_x_std_test)"
   ]
  },
  {
   "cell_type": "markdown",
   "metadata": {},
   "source": [
    "# Modelling\n",
    "For this dataset we have decided to use ensemble methods such as RandomForest Regressor"
   ]
  },
  {
   "cell_type": "code",
   "execution_count": null,
   "metadata": {},
   "outputs": [],
   "source": [
    "from sklearn.ensemble import RandomForestRegressor\n",
    "rf = RandomForestRegressor(n_estimators = 50, random_state = 42)\n",
    "rf.fit(df_x_std_train, y_train.values.ravel())"
   ]
  },
  {
   "cell_type": "code",
   "execution_count": null,
   "metadata": {},
   "outputs": [],
   "source": [
    "predictions = rf.predict(df_x_std_test[0].reshape(1,-1))\n",
    "errors = abs(predictions - y_test)\n",
    "print('Mean Absolute Error:', round(np.mean(errors), 2), 'degrees.')"
   ]
  },
  {
   "cell_type": "code",
   "execution_count": null,
   "metadata": {},
   "outputs": [],
   "source": [
    "mape = 100 * (errors / y_test)\n",
    "from sklearn.model_selection import cross_validate\n",
    "accuracy = 100 - np.mean(mape)\n",
    "print('Accuracy:', round(accuracy, 2), '%.')"
   ]
  }
 ],
 "metadata": {
  "kernelspec": {
   "display_name": "Python 3",
   "language": "python",
   "name": "python3"
  },
  "language_info": {
   "codemirror_mode": {
    "name": "ipython",
    "version": 3
   },
   "file_extension": ".py",
   "mimetype": "text/x-python",
   "name": "python",
   "nbconvert_exporter": "python",
   "pygments_lexer": "ipython3",
   "version": "3.7.3"
  }
 },
 "nbformat": 4,
 "nbformat_minor": 2
}
