{
  "nbformat": 4,
  "nbformat_minor": 0,
  "metadata": {
    "kernelspec": {
      "display_name": "Python 3",
      "language": "python",
      "name": "python3"
    },
    "language_info": {
      "codemirror_mode": {
        "name": "ipython",
        "version": 3
      },
      "file_extension": ".py",
      "mimetype": "text/x-python",
      "name": "python",
      "nbconvert_exporter": "python",
      "pygments_lexer": "ipython3",
      "version": "3.7.3"
    },
    "colab": {
      "name": "Untitled (2).ipynb",
      "provenance": [],
      "collapsed_sections": []
    }
  },
  "cells": [
    {
      "cell_type": "code",
      "metadata": {
        "id": "YWtkcEWd9RKM",
        "colab_type": "code",
        "colab": {
          "base_uri": "https://localhost:8080/",
          "height": 34
        },
        "outputId": "b0e90080-4f48-4b0e-e0e5-752c1ae35652"
      },
      "source": [
        "from google.colab import drive\n",
        "drive.mount('/content/gdrive')"
      ],
      "execution_count": 1,
      "outputs": [
        {
          "output_type": "stream",
          "text": [
            "Drive already mounted at /content/gdrive; to attempt to forcibly remount, call drive.mount(\"/content/gdrive\", force_remount=True).\n"
          ],
          "name": "stdout"
        }
      ]
    },
    {
      "cell_type": "code",
      "metadata": {
        "id": "eQH6_L3K9Swj",
        "colab_type": "code",
        "colab": {}
      },
      "source": [
        "#Importing the neccessary libraries\n",
        "import pandas as pd\n",
        "import numpy as np\n",
        "import seaborn as sns\n",
        "import matplotlib.pyplot as plt\n",
        "from sklearn.pipeline import Pipeline\n",
        "from sklearn.preprocessing import StandardScaler\n",
        "from sklearn.ensemble import RandomForestRegressor,RandomForestClassifier\n",
        "from sklearn import preprocessing\n",
        "import datetime\n",
        "from sklearn.preprocessing import StandardScaler, OneHotEncoder\n",
        "from sklearn.compose import ColumnTransformer, make_column_transformer\n",
        "from sklearn.pipeline import make_pipeline\n",
        "from sklearn.model_selection import train_test_split\n"
      ],
      "execution_count": 0,
      "outputs": []
    },
    {
      "cell_type": "code",
      "metadata": {
        "id": "RlK5vOQ99JCq",
        "colab_type": "code",
        "colab": {}
      },
      "source": [
        "#Importing our dataset\n",
        "df_cab=pd.read_csv('/content/gdrive/My Drive/KDD/cab_rides.csv')\n",
        "#Creating an index label for the dataset\n",
        "df_cab.reset_index(drop=True, inplace=True)"
      ],
      "execution_count": 0,
      "outputs": []
    },
    {
      "cell_type": "code",
      "metadata": {
        "id": "Jq5fslCb9JCt",
        "colab_type": "code",
        "colab": {
          "base_uri": "https://localhost:8080/",
          "height": 34
        },
        "outputId": "3e90acd8-d8fe-40c6-e5f9-b4fb48d8c6d7"
      },
      "source": [
        "df_cab.shape"
      ],
      "execution_count": 4,
      "outputs": [
        {
          "output_type": "execute_result",
          "data": {
            "text/plain": [
              "(693071, 10)"
            ]
          },
          "metadata": {
            "tags": []
          },
          "execution_count": 4
        }
      ]
    },
    {
      "cell_type": "code",
      "metadata": {
        "id": "Wgq-8JSx9JCw",
        "colab_type": "code",
        "colab": {}
      },
      "source": [
        "\n",
        "#convert 13digit time stamp to datetime format\n",
        "df_cab['date_time'] = pd.to_datetime(df_cab['time_stamp']/1000, unit='s')\n"
      ],
      "execution_count": 0,
      "outputs": []
    },
    {
      "cell_type": "code",
      "metadata": {
        "id": "2YM4X0Xz9JCy",
        "colab_type": "code",
        "colab": {
          "base_uri": "https://localhost:8080/",
          "height": 204
        },
        "outputId": "c752ea51-e26f-4c1f-f65e-55d03535fa17"
      },
      "source": [
        "df_cab['day'] = df_cab.date_time.dt.dayofweek\n",
        "df_cab['hour'] = df_cab.date_time.dt.hour\n",
        "df_cab.head()"
      ],
      "execution_count": 6,
      "outputs": [
        {
          "output_type": "execute_result",
          "data": {
            "text/html": [
              "<div>\n",
              "<style scoped>\n",
              "    .dataframe tbody tr th:only-of-type {\n",
              "        vertical-align: middle;\n",
              "    }\n",
              "\n",
              "    .dataframe tbody tr th {\n",
              "        vertical-align: top;\n",
              "    }\n",
              "\n",
              "    .dataframe thead th {\n",
              "        text-align: right;\n",
              "    }\n",
              "</style>\n",
              "<table border=\"1\" class=\"dataframe\">\n",
              "  <thead>\n",
              "    <tr style=\"text-align: right;\">\n",
              "      <th></th>\n",
              "      <th>distance</th>\n",
              "      <th>cab_type</th>\n",
              "      <th>time_stamp</th>\n",
              "      <th>destination</th>\n",
              "      <th>source</th>\n",
              "      <th>price</th>\n",
              "      <th>surge_multiplier</th>\n",
              "      <th>id</th>\n",
              "      <th>product_id</th>\n",
              "      <th>name</th>\n",
              "      <th>date_time</th>\n",
              "      <th>day</th>\n",
              "      <th>hour</th>\n",
              "    </tr>\n",
              "  </thead>\n",
              "  <tbody>\n",
              "    <tr>\n",
              "      <th>0</th>\n",
              "      <td>0.44</td>\n",
              "      <td>Lyft</td>\n",
              "      <td>1544952607890</td>\n",
              "      <td>North Station</td>\n",
              "      <td>Haymarket Square</td>\n",
              "      <td>5.0</td>\n",
              "      <td>1.0</td>\n",
              "      <td>424553bb-7174-41ea-aeb4-fe06d4f4b9d7</td>\n",
              "      <td>lyft_line</td>\n",
              "      <td>Shared</td>\n",
              "      <td>2018-12-16 09:30:07.890000105</td>\n",
              "      <td>6</td>\n",
              "      <td>9</td>\n",
              "    </tr>\n",
              "    <tr>\n",
              "      <th>1</th>\n",
              "      <td>0.44</td>\n",
              "      <td>Lyft</td>\n",
              "      <td>1543284023677</td>\n",
              "      <td>North Station</td>\n",
              "      <td>Haymarket Square</td>\n",
              "      <td>11.0</td>\n",
              "      <td>1.0</td>\n",
              "      <td>4bd23055-6827-41c6-b23b-3c491f24e74d</td>\n",
              "      <td>lyft_premier</td>\n",
              "      <td>Lux</td>\n",
              "      <td>2018-11-27 02:00:23.677000046</td>\n",
              "      <td>1</td>\n",
              "      <td>2</td>\n",
              "    </tr>\n",
              "    <tr>\n",
              "      <th>2</th>\n",
              "      <td>0.44</td>\n",
              "      <td>Lyft</td>\n",
              "      <td>1543366822198</td>\n",
              "      <td>North Station</td>\n",
              "      <td>Haymarket Square</td>\n",
              "      <td>7.0</td>\n",
              "      <td>1.0</td>\n",
              "      <td>981a3613-77af-4620-a42a-0c0866077d1e</td>\n",
              "      <td>lyft</td>\n",
              "      <td>Lyft</td>\n",
              "      <td>2018-11-28 01:00:22.197999954</td>\n",
              "      <td>2</td>\n",
              "      <td>1</td>\n",
              "    </tr>\n",
              "    <tr>\n",
              "      <th>3</th>\n",
              "      <td>0.44</td>\n",
              "      <td>Lyft</td>\n",
              "      <td>1543553582749</td>\n",
              "      <td>North Station</td>\n",
              "      <td>Haymarket Square</td>\n",
              "      <td>26.0</td>\n",
              "      <td>1.0</td>\n",
              "      <td>c2d88af2-d278-4bfd-a8d0-29ca77cc5512</td>\n",
              "      <td>lyft_luxsuv</td>\n",
              "      <td>Lux Black XL</td>\n",
              "      <td>2018-11-30 04:53:02.749000072</td>\n",
              "      <td>4</td>\n",
              "      <td>4</td>\n",
              "    </tr>\n",
              "    <tr>\n",
              "      <th>4</th>\n",
              "      <td>0.44</td>\n",
              "      <td>Lyft</td>\n",
              "      <td>1543463360223</td>\n",
              "      <td>North Station</td>\n",
              "      <td>Haymarket Square</td>\n",
              "      <td>9.0</td>\n",
              "      <td>1.0</td>\n",
              "      <td>e0126e1f-8ca9-4f2e-82b3-50505a09db9a</td>\n",
              "      <td>lyft_plus</td>\n",
              "      <td>Lyft XL</td>\n",
              "      <td>2018-11-29 03:49:20.223000050</td>\n",
              "      <td>3</td>\n",
              "      <td>3</td>\n",
              "    </tr>\n",
              "  </tbody>\n",
              "</table>\n",
              "</div>"
            ],
            "text/plain": [
              "   distance cab_type     time_stamp  ...                     date_time day  hour\n",
              "0      0.44     Lyft  1544952607890  ... 2018-12-16 09:30:07.890000105   6     9\n",
              "1      0.44     Lyft  1543284023677  ... 2018-11-27 02:00:23.677000046   1     2\n",
              "2      0.44     Lyft  1543366822198  ... 2018-11-28 01:00:22.197999954   2     1\n",
              "3      0.44     Lyft  1543553582749  ... 2018-11-30 04:53:02.749000072   4     4\n",
              "4      0.44     Lyft  1543463360223  ... 2018-11-29 03:49:20.223000050   3     3\n",
              "\n",
              "[5 rows x 13 columns]"
            ]
          },
          "metadata": {
            "tags": []
          },
          "execution_count": 6
        }
      ]
    },
    {
      "cell_type": "code",
      "metadata": {
        "id": "tfNiaBkk9JC1",
        "colab_type": "code",
        "colab": {}
      },
      "source": [
        "df_cab['fare_per_mile']= round(df_cab.price/df_cab.distance,2)\n",
        "#Replacing null values.\n",
        "df_cab['fare_per_mile'].fillna(2.8,inplace=True)\n",
        "#df_cab['fare_per_mile']=df_cab['fare_per_mile'].astype(float)\n",
        "df_cab['price'] = df_cab['fare_per_mile']*df_cab['distance']"
      ],
      "execution_count": 0,
      "outputs": []
    },
    {
      "cell_type": "code",
      "metadata": {
        "id": "f4FWtYpo9JC3",
        "colab_type": "code",
        "colab": {
          "base_uri": "https://localhost:8080/",
          "height": 34
        },
        "outputId": "dae533be-fd3c-4c6e-d45a-75aa95b0c900"
      },
      "source": [
        "#After replacement checking if the change is reflected in the dataset.\n",
        "df_cab.price.isnull().sum()"
      ],
      "execution_count": 8,
      "outputs": [
        {
          "output_type": "execute_result",
          "data": {
            "text/plain": [
              "0"
            ]
          },
          "metadata": {
            "tags": []
          },
          "execution_count": 8
        }
      ]
    },
    {
      "cell_type": "code",
      "metadata": {
        "id": "i02SARYo9JC5",
        "colab_type": "code",
        "colab": {
          "base_uri": "https://localhost:8080/",
          "height": 111
        },
        "outputId": "78e5f0ce-5d98-4d5a-ae1a-2d888a72598c"
      },
      "source": [
        "#Import the new dataset and view the attributes\n",
        "df_weather=pd.read_csv('/content/gdrive/My Drive/KDD/weather.csv')\n",
        "df_weather.head(2)"
      ],
      "execution_count": 9,
      "outputs": [
        {
          "output_type": "execute_result",
          "data": {
            "text/html": [
              "<div>\n",
              "<style scoped>\n",
              "    .dataframe tbody tr th:only-of-type {\n",
              "        vertical-align: middle;\n",
              "    }\n",
              "\n",
              "    .dataframe tbody tr th {\n",
              "        vertical-align: top;\n",
              "    }\n",
              "\n",
              "    .dataframe thead th {\n",
              "        text-align: right;\n",
              "    }\n",
              "</style>\n",
              "<table border=\"1\" class=\"dataframe\">\n",
              "  <thead>\n",
              "    <tr style=\"text-align: right;\">\n",
              "      <th></th>\n",
              "      <th>temp</th>\n",
              "      <th>location</th>\n",
              "      <th>clouds</th>\n",
              "      <th>pressure</th>\n",
              "      <th>rain</th>\n",
              "      <th>time_stamp</th>\n",
              "      <th>humidity</th>\n",
              "      <th>wind</th>\n",
              "    </tr>\n",
              "  </thead>\n",
              "  <tbody>\n",
              "    <tr>\n",
              "      <th>0</th>\n",
              "      <td>42.42</td>\n",
              "      <td>Back Bay</td>\n",
              "      <td>1.0</td>\n",
              "      <td>1012.14</td>\n",
              "      <td>0.1228</td>\n",
              "      <td>1545003901</td>\n",
              "      <td>0.77</td>\n",
              "      <td>11.25</td>\n",
              "    </tr>\n",
              "    <tr>\n",
              "      <th>1</th>\n",
              "      <td>42.43</td>\n",
              "      <td>Beacon Hill</td>\n",
              "      <td>1.0</td>\n",
              "      <td>1012.15</td>\n",
              "      <td>0.1846</td>\n",
              "      <td>1545003901</td>\n",
              "      <td>0.76</td>\n",
              "      <td>11.32</td>\n",
              "    </tr>\n",
              "  </tbody>\n",
              "</table>\n",
              "</div>"
            ],
            "text/plain": [
              "    temp     location  clouds  pressure    rain  time_stamp  humidity   wind\n",
              "0  42.42     Back Bay     1.0   1012.14  0.1228  1545003901      0.77  11.25\n",
              "1  42.43  Beacon Hill     1.0   1012.15  0.1846  1545003901      0.76  11.32"
            ]
          },
          "metadata": {
            "tags": []
          },
          "execution_count": 9
        }
      ]
    },
    {
      "cell_type": "code",
      "metadata": {
        "id": "d8Ezn9ES9JC8",
        "colab_type": "code",
        "colab": {
          "base_uri": "https://localhost:8080/",
          "height": 170
        },
        "outputId": "aa5f87ea-2eb4-4ecd-a4b2-613da1b00916"
      },
      "source": [
        "df_weather.isnull().sum()"
      ],
      "execution_count": 10,
      "outputs": [
        {
          "output_type": "execute_result",
          "data": {
            "text/plain": [
              "temp             0\n",
              "location         0\n",
              "clouds           0\n",
              "pressure         0\n",
              "rain          5382\n",
              "time_stamp       0\n",
              "humidity         0\n",
              "wind             0\n",
              "dtype: int64"
            ]
          },
          "metadata": {
            "tags": []
          },
          "execution_count": 10
        }
      ]
    },
    {
      "cell_type": "code",
      "metadata": {
        "id": "WalpKLBo9JC-",
        "colab_type": "code",
        "colab": {}
      },
      "source": [
        "df_weather['rain'].fillna(0, inplace = True)"
      ],
      "execution_count": 0,
      "outputs": []
    },
    {
      "cell_type": "code",
      "metadata": {
        "id": "5r8fNkeQ9JDA",
        "colab_type": "code",
        "colab": {
          "base_uri": "https://localhost:8080/",
          "height": 170
        },
        "outputId": "8499e519-93f3-4d41-aa05-7c809588ba61"
      },
      "source": [
        "df_weather.isnull().sum()"
      ],
      "execution_count": 12,
      "outputs": [
        {
          "output_type": "execute_result",
          "data": {
            "text/plain": [
              "temp          0\n",
              "location      0\n",
              "clouds        0\n",
              "pressure      0\n",
              "rain          0\n",
              "time_stamp    0\n",
              "humidity      0\n",
              "wind          0\n",
              "dtype: int64"
            ]
          },
          "metadata": {
            "tags": []
          },
          "execution_count": 12
        }
      ]
    },
    {
      "cell_type": "code",
      "metadata": {
        "id": "CXAcsKB79JDD",
        "colab_type": "code",
        "colab": {}
      },
      "source": [
        "df_weather['date_time'] = pd.to_datetime(df_weather['time_stamp'], unit='s')\n",
        "del df_weather['time_stamp']"
      ],
      "execution_count": 0,
      "outputs": []
    },
    {
      "cell_type": "code",
      "metadata": {
        "id": "iVdzdxeZ9JDF",
        "colab_type": "code",
        "colab": {
          "base_uri": "https://localhost:8080/",
          "height": 187
        },
        "outputId": "ca684a69-0984-4970-af18-0a491dde4cb4"
      },
      "source": [
        "#merge the datasets to refelect same time for a location\n",
        "df_cab['merge_date'] = df_cab.source.astype(str) +\" - \"+ df_cab.date_time.dt.date.astype(\"str\") +\" - \"+ df_cab.date_time.dt.hour.astype(\"str\")\n",
        "df_weather['merge_date'] = df_weather.location.astype(str) +\" - \"+ df_weather.date_time.dt.date.astype(\"str\") +\" - \"+ df_weather.date_time.dt.hour.astype(\"str\")\n",
        "print(df_cab.head(2))\n",
        "print(df_weather.head(2))"
      ],
      "execution_count": 14,
      "outputs": [
        {
          "output_type": "stream",
          "text": [
            "   distance cab_type  ...  fare_per_mile                         merge_date\n",
            "0      0.44     Lyft  ...          11.36  Haymarket Square - 2018-12-16 - 9\n",
            "1      0.44     Lyft  ...          25.00  Haymarket Square - 2018-11-27 - 2\n",
            "\n",
            "[2 rows x 15 columns]\n",
            "    temp     location  ...           date_time                     merge_date\n",
            "0  42.42     Back Bay  ... 2018-12-16 23:45:01     Back Bay - 2018-12-16 - 23\n",
            "1  42.43  Beacon Hill  ... 2018-12-16 23:45:01  Beacon Hill - 2018-12-16 - 23\n",
            "\n",
            "[2 rows x 9 columns]\n"
          ],
          "name": "stdout"
        }
      ]
    },
    {
      "cell_type": "code",
      "metadata": {
        "id": "5s2ewhNv9JDH",
        "colab_type": "code",
        "colab": {
          "base_uri": "https://localhost:8080/",
          "height": 204
        },
        "outputId": "0a8b0868-02cc-482c-97ef-3181ee038e70"
      },
      "source": [
        "df_weather = df_weather.groupby(['merge_date']).mean()\n",
        "df_weather.reset_index(inplace=True)\n",
        "df_weather.head()"
      ],
      "execution_count": 15,
      "outputs": [
        {
          "output_type": "execute_result",
          "data": {
            "text/html": [
              "<div>\n",
              "<style scoped>\n",
              "    .dataframe tbody tr th:only-of-type {\n",
              "        vertical-align: middle;\n",
              "    }\n",
              "\n",
              "    .dataframe tbody tr th {\n",
              "        vertical-align: top;\n",
              "    }\n",
              "\n",
              "    .dataframe thead th {\n",
              "        text-align: right;\n",
              "    }\n",
              "</style>\n",
              "<table border=\"1\" class=\"dataframe\">\n",
              "  <thead>\n",
              "    <tr style=\"text-align: right;\">\n",
              "      <th></th>\n",
              "      <th>merge_date</th>\n",
              "      <th>temp</th>\n",
              "      <th>clouds</th>\n",
              "      <th>pressure</th>\n",
              "      <th>rain</th>\n",
              "      <th>humidity</th>\n",
              "      <th>wind</th>\n",
              "    </tr>\n",
              "  </thead>\n",
              "  <tbody>\n",
              "    <tr>\n",
              "      <th>0</th>\n",
              "      <td>Back Bay - 2018-11-26 - 10</td>\n",
              "      <td>40.695</td>\n",
              "      <td>0.995</td>\n",
              "      <td>1014.800</td>\n",
              "      <td>0.0000</td>\n",
              "      <td>0.940</td>\n",
              "      <td>1.895</td>\n",
              "    </tr>\n",
              "    <tr>\n",
              "      <th>1</th>\n",
              "      <td>Back Bay - 2018-11-26 - 11</td>\n",
              "      <td>40.185</td>\n",
              "      <td>0.955</td>\n",
              "      <td>1015.305</td>\n",
              "      <td>0.0000</td>\n",
              "      <td>0.940</td>\n",
              "      <td>2.260</td>\n",
              "    </tr>\n",
              "    <tr>\n",
              "      <th>2</th>\n",
              "      <td>Back Bay - 2018-11-26 - 12</td>\n",
              "      <td>40.315</td>\n",
              "      <td>0.920</td>\n",
              "      <td>1015.275</td>\n",
              "      <td>0.0000</td>\n",
              "      <td>0.935</td>\n",
              "      <td>2.940</td>\n",
              "    </tr>\n",
              "    <tr>\n",
              "      <th>3</th>\n",
              "      <td>Back Bay - 2018-11-26 - 13</td>\n",
              "      <td>41.950</td>\n",
              "      <td>0.910</td>\n",
              "      <td>1015.200</td>\n",
              "      <td>0.0031</td>\n",
              "      <td>0.910</td>\n",
              "      <td>3.545</td>\n",
              "    </tr>\n",
              "    <tr>\n",
              "      <th>4</th>\n",
              "      <td>Back Bay - 2018-11-26 - 14</td>\n",
              "      <td>42.765</td>\n",
              "      <td>0.905</td>\n",
              "      <td>1014.695</td>\n",
              "      <td>0.0044</td>\n",
              "      <td>0.910</td>\n",
              "      <td>2.960</td>\n",
              "    </tr>\n",
              "  </tbody>\n",
              "</table>\n",
              "</div>"
            ],
            "text/plain": [
              "                   merge_date    temp  clouds  ...    rain  humidity   wind\n",
              "0  Back Bay - 2018-11-26 - 10  40.695   0.995  ...  0.0000     0.940  1.895\n",
              "1  Back Bay - 2018-11-26 - 11  40.185   0.955  ...  0.0000     0.940  2.260\n",
              "2  Back Bay - 2018-11-26 - 12  40.315   0.920  ...  0.0000     0.935  2.940\n",
              "3  Back Bay - 2018-11-26 - 13  41.950   0.910  ...  0.0031     0.910  3.545\n",
              "4  Back Bay - 2018-11-26 - 14  42.765   0.905  ...  0.0044     0.910  2.960\n",
              "\n",
              "[5 rows x 7 columns]"
            ]
          },
          "metadata": {
            "tags": []
          },
          "execution_count": 15
        }
      ]
    },
    {
      "cell_type": "code",
      "metadata": {
        "id": "7jIoz_7P9JDJ",
        "colab_type": "code",
        "colab": {
          "base_uri": "https://localhost:8080/",
          "height": 34
        },
        "outputId": "b55f19c5-0d2a-4752-923c-d6e367b5f797"
      },
      "source": [
        "df_merged = pd.merge(df_cab, df_weather, on='merge_date')\n",
        "\n",
        "print(df_merged.shape)"
      ],
      "execution_count": 16,
      "outputs": [
        {
          "output_type": "stream",
          "text": [
            "(690107, 21)\n"
          ],
          "name": "stdout"
        }
      ]
    },
    {
      "cell_type": "code",
      "metadata": {
        "id": "CqgycYPn9JDK",
        "colab_type": "code",
        "colab": {
          "base_uri": "https://localhost:8080/",
          "height": 544
        },
        "outputId": "ad08b5e1-7d5d-4d81-cc8d-10443a849116"
      },
      "source": [
        "print(df_merged.columns)\n",
        "df_merged.head()"
      ],
      "execution_count": 17,
      "outputs": [
        {
          "output_type": "stream",
          "text": [
            "Index(['distance', 'cab_type', 'time_stamp', 'destination', 'source', 'price',\n",
            "       'surge_multiplier', 'id', 'product_id', 'name', 'date_time', 'day',\n",
            "       'hour', 'fare_per_mile', 'merge_date', 'temp', 'clouds', 'pressure',\n",
            "       'rain', 'humidity', 'wind'],\n",
            "      dtype='object')\n"
          ],
          "name": "stdout"
        },
        {
          "output_type": "execute_result",
          "data": {
            "text/html": [
              "<div>\n",
              "<style scoped>\n",
              "    .dataframe tbody tr th:only-of-type {\n",
              "        vertical-align: middle;\n",
              "    }\n",
              "\n",
              "    .dataframe tbody tr th {\n",
              "        vertical-align: top;\n",
              "    }\n",
              "\n",
              "    .dataframe thead th {\n",
              "        text-align: right;\n",
              "    }\n",
              "</style>\n",
              "<table border=\"1\" class=\"dataframe\">\n",
              "  <thead>\n",
              "    <tr style=\"text-align: right;\">\n",
              "      <th></th>\n",
              "      <th>distance</th>\n",
              "      <th>cab_type</th>\n",
              "      <th>time_stamp</th>\n",
              "      <th>destination</th>\n",
              "      <th>source</th>\n",
              "      <th>price</th>\n",
              "      <th>surge_multiplier</th>\n",
              "      <th>id</th>\n",
              "      <th>product_id</th>\n",
              "      <th>name</th>\n",
              "      <th>date_time</th>\n",
              "      <th>day</th>\n",
              "      <th>hour</th>\n",
              "      <th>fare_per_mile</th>\n",
              "      <th>merge_date</th>\n",
              "      <th>temp</th>\n",
              "      <th>clouds</th>\n",
              "      <th>pressure</th>\n",
              "      <th>rain</th>\n",
              "      <th>humidity</th>\n",
              "      <th>wind</th>\n",
              "    </tr>\n",
              "  </thead>\n",
              "  <tbody>\n",
              "    <tr>\n",
              "      <th>0</th>\n",
              "      <td>0.44</td>\n",
              "      <td>Lyft</td>\n",
              "      <td>1544952607890</td>\n",
              "      <td>North Station</td>\n",
              "      <td>Haymarket Square</td>\n",
              "      <td>4.9984</td>\n",
              "      <td>1.0</td>\n",
              "      <td>424553bb-7174-41ea-aeb4-fe06d4f4b9d7</td>\n",
              "      <td>lyft_line</td>\n",
              "      <td>Shared</td>\n",
              "      <td>2018-12-16 09:30:07.890000105</td>\n",
              "      <td>6</td>\n",
              "      <td>9</td>\n",
              "      <td>11.36</td>\n",
              "      <td>Haymarket Square - 2018-12-16 - 9</td>\n",
              "      <td>38.46</td>\n",
              "      <td>0.29</td>\n",
              "      <td>1022.25</td>\n",
              "      <td>0.0</td>\n",
              "      <td>0.76</td>\n",
              "      <td>7.68</td>\n",
              "    </tr>\n",
              "    <tr>\n",
              "      <th>1</th>\n",
              "      <td>1.33</td>\n",
              "      <td>Lyft</td>\n",
              "      <td>1544952309308</td>\n",
              "      <td>Beacon Hill</td>\n",
              "      <td>Haymarket Square</td>\n",
              "      <td>6.9958</td>\n",
              "      <td>1.0</td>\n",
              "      <td>0d468502-34b5-447f-be9f-acbb62176072</td>\n",
              "      <td>lyft</td>\n",
              "      <td>Lyft</td>\n",
              "      <td>2018-12-16 09:25:09.308000088</td>\n",
              "      <td>6</td>\n",
              "      <td>9</td>\n",
              "      <td>5.26</td>\n",
              "      <td>Haymarket Square - 2018-12-16 - 9</td>\n",
              "      <td>38.46</td>\n",
              "      <td>0.29</td>\n",
              "      <td>1022.25</td>\n",
              "      <td>0.0</td>\n",
              "      <td>0.76</td>\n",
              "      <td>7.68</td>\n",
              "    </tr>\n",
              "    <tr>\n",
              "      <th>2</th>\n",
              "      <td>0.53</td>\n",
              "      <td>Lyft</td>\n",
              "      <td>1544951109578</td>\n",
              "      <td>North Station</td>\n",
              "      <td>Haymarket Square</td>\n",
              "      <td>27.5017</td>\n",
              "      <td>1.0</td>\n",
              "      <td>2aa8d17e-4b13-4200-87db-db3eed73ca6b</td>\n",
              "      <td>lyft_luxsuv</td>\n",
              "      <td>Lux Black XL</td>\n",
              "      <td>2018-12-16 09:05:09.578000069</td>\n",
              "      <td>6</td>\n",
              "      <td>9</td>\n",
              "      <td>51.89</td>\n",
              "      <td>Haymarket Square - 2018-12-16 - 9</td>\n",
              "      <td>38.46</td>\n",
              "      <td>0.29</td>\n",
              "      <td>1022.25</td>\n",
              "      <td>0.0</td>\n",
              "      <td>0.76</td>\n",
              "      <td>7.68</td>\n",
              "    </tr>\n",
              "    <tr>\n",
              "      <th>3</th>\n",
              "      <td>2.36</td>\n",
              "      <td>Lyft</td>\n",
              "      <td>1544954108860</td>\n",
              "      <td>Back Bay</td>\n",
              "      <td>Haymarket Square</td>\n",
              "      <td>7.0092</td>\n",
              "      <td>1.0</td>\n",
              "      <td>4944c164-0463-47b9-96e1-15ffe8b9c7c9</td>\n",
              "      <td>lyft_line</td>\n",
              "      <td>Shared</td>\n",
              "      <td>2018-12-16 09:55:08.859999895</td>\n",
              "      <td>6</td>\n",
              "      <td>9</td>\n",
              "      <td>2.97</td>\n",
              "      <td>Haymarket Square - 2018-12-16 - 9</td>\n",
              "      <td>38.46</td>\n",
              "      <td>0.29</td>\n",
              "      <td>1022.25</td>\n",
              "      <td>0.0</td>\n",
              "      <td>0.76</td>\n",
              "      <td>7.68</td>\n",
              "    </tr>\n",
              "    <tr>\n",
              "      <th>4</th>\n",
              "      <td>0.62</td>\n",
              "      <td>Uber</td>\n",
              "      <td>1544954108161</td>\n",
              "      <td>West End</td>\n",
              "      <td>Haymarket Square</td>\n",
              "      <td>10.5028</td>\n",
              "      <td>1.0</td>\n",
              "      <td>b1c23003-39fb-4030-9961-4f3420b23907</td>\n",
              "      <td>6f72dfc5-27f1-42e8-84db-ccc7a75f6969</td>\n",
              "      <td>UberXL</td>\n",
              "      <td>2018-12-16 09:55:08.161000013</td>\n",
              "      <td>6</td>\n",
              "      <td>9</td>\n",
              "      <td>16.94</td>\n",
              "      <td>Haymarket Square - 2018-12-16 - 9</td>\n",
              "      <td>38.46</td>\n",
              "      <td>0.29</td>\n",
              "      <td>1022.25</td>\n",
              "      <td>0.0</td>\n",
              "      <td>0.76</td>\n",
              "      <td>7.68</td>\n",
              "    </tr>\n",
              "  </tbody>\n",
              "</table>\n",
              "</div>"
            ],
            "text/plain": [
              "   distance cab_type     time_stamp  ... rain humidity  wind\n",
              "0      0.44     Lyft  1544952607890  ...  0.0     0.76  7.68\n",
              "1      1.33     Lyft  1544952309308  ...  0.0     0.76  7.68\n",
              "2      0.53     Lyft  1544951109578  ...  0.0     0.76  7.68\n",
              "3      2.36     Lyft  1544954108860  ...  0.0     0.76  7.68\n",
              "4      0.62     Uber  1544954108161  ...  0.0     0.76  7.68\n",
              "\n",
              "[5 rows x 21 columns]"
            ]
          },
          "metadata": {
            "tags": []
          },
          "execution_count": 17
        }
      ]
    },
    {
      "cell_type": "code",
      "metadata": {
        "id": "r9XKY9Uq9JDM",
        "colab_type": "code",
        "colab": {}
      },
      "source": [
        "#df_merged.isnull().sum()"
      ],
      "execution_count": 0,
      "outputs": []
    },
    {
      "cell_type": "code",
      "metadata": {
        "id": "SkYjjf3n9JDN",
        "colab_type": "code",
        "colab": {}
      },
      "source": [
        "df_merged = df_merged.drop(['date_time','time_stamp','id','product_id'], axis=1)"
      ],
      "execution_count": 0,
      "outputs": []
    },
    {
      "cell_type": "code",
      "metadata": {
        "id": "w_CAZwrk9JDP",
        "colab_type": "code",
        "colab": {
          "base_uri": "https://localhost:8080/",
          "height": 272
        },
        "outputId": "b7c918b3-1533-4ab0-b0af-4366b465a6cc"
      },
      "source": [
        "print(df_merged.columns)\n",
        "df_merged.head()"
      ],
      "execution_count": 20,
      "outputs": [
        {
          "output_type": "stream",
          "text": [
            "Index(['distance', 'cab_type', 'destination', 'source', 'price',\n",
            "       'surge_multiplier', 'name', 'day', 'hour', 'fare_per_mile',\n",
            "       'merge_date', 'temp', 'clouds', 'pressure', 'rain', 'humidity', 'wind'],\n",
            "      dtype='object')\n"
          ],
          "name": "stdout"
        },
        {
          "output_type": "execute_result",
          "data": {
            "text/html": [
              "<div>\n",
              "<style scoped>\n",
              "    .dataframe tbody tr th:only-of-type {\n",
              "        vertical-align: middle;\n",
              "    }\n",
              "\n",
              "    .dataframe tbody tr th {\n",
              "        vertical-align: top;\n",
              "    }\n",
              "\n",
              "    .dataframe thead th {\n",
              "        text-align: right;\n",
              "    }\n",
              "</style>\n",
              "<table border=\"1\" class=\"dataframe\">\n",
              "  <thead>\n",
              "    <tr style=\"text-align: right;\">\n",
              "      <th></th>\n",
              "      <th>distance</th>\n",
              "      <th>cab_type</th>\n",
              "      <th>destination</th>\n",
              "      <th>source</th>\n",
              "      <th>price</th>\n",
              "      <th>surge_multiplier</th>\n",
              "      <th>name</th>\n",
              "      <th>day</th>\n",
              "      <th>hour</th>\n",
              "      <th>fare_per_mile</th>\n",
              "      <th>merge_date</th>\n",
              "      <th>temp</th>\n",
              "      <th>clouds</th>\n",
              "      <th>pressure</th>\n",
              "      <th>rain</th>\n",
              "      <th>humidity</th>\n",
              "      <th>wind</th>\n",
              "    </tr>\n",
              "  </thead>\n",
              "  <tbody>\n",
              "    <tr>\n",
              "      <th>0</th>\n",
              "      <td>0.44</td>\n",
              "      <td>Lyft</td>\n",
              "      <td>North Station</td>\n",
              "      <td>Haymarket Square</td>\n",
              "      <td>4.9984</td>\n",
              "      <td>1.0</td>\n",
              "      <td>Shared</td>\n",
              "      <td>6</td>\n",
              "      <td>9</td>\n",
              "      <td>11.36</td>\n",
              "      <td>Haymarket Square - 2018-12-16 - 9</td>\n",
              "      <td>38.46</td>\n",
              "      <td>0.29</td>\n",
              "      <td>1022.25</td>\n",
              "      <td>0.0</td>\n",
              "      <td>0.76</td>\n",
              "      <td>7.68</td>\n",
              "    </tr>\n",
              "    <tr>\n",
              "      <th>1</th>\n",
              "      <td>1.33</td>\n",
              "      <td>Lyft</td>\n",
              "      <td>Beacon Hill</td>\n",
              "      <td>Haymarket Square</td>\n",
              "      <td>6.9958</td>\n",
              "      <td>1.0</td>\n",
              "      <td>Lyft</td>\n",
              "      <td>6</td>\n",
              "      <td>9</td>\n",
              "      <td>5.26</td>\n",
              "      <td>Haymarket Square - 2018-12-16 - 9</td>\n",
              "      <td>38.46</td>\n",
              "      <td>0.29</td>\n",
              "      <td>1022.25</td>\n",
              "      <td>0.0</td>\n",
              "      <td>0.76</td>\n",
              "      <td>7.68</td>\n",
              "    </tr>\n",
              "    <tr>\n",
              "      <th>2</th>\n",
              "      <td>0.53</td>\n",
              "      <td>Lyft</td>\n",
              "      <td>North Station</td>\n",
              "      <td>Haymarket Square</td>\n",
              "      <td>27.5017</td>\n",
              "      <td>1.0</td>\n",
              "      <td>Lux Black XL</td>\n",
              "      <td>6</td>\n",
              "      <td>9</td>\n",
              "      <td>51.89</td>\n",
              "      <td>Haymarket Square - 2018-12-16 - 9</td>\n",
              "      <td>38.46</td>\n",
              "      <td>0.29</td>\n",
              "      <td>1022.25</td>\n",
              "      <td>0.0</td>\n",
              "      <td>0.76</td>\n",
              "      <td>7.68</td>\n",
              "    </tr>\n",
              "    <tr>\n",
              "      <th>3</th>\n",
              "      <td>2.36</td>\n",
              "      <td>Lyft</td>\n",
              "      <td>Back Bay</td>\n",
              "      <td>Haymarket Square</td>\n",
              "      <td>7.0092</td>\n",
              "      <td>1.0</td>\n",
              "      <td>Shared</td>\n",
              "      <td>6</td>\n",
              "      <td>9</td>\n",
              "      <td>2.97</td>\n",
              "      <td>Haymarket Square - 2018-12-16 - 9</td>\n",
              "      <td>38.46</td>\n",
              "      <td>0.29</td>\n",
              "      <td>1022.25</td>\n",
              "      <td>0.0</td>\n",
              "      <td>0.76</td>\n",
              "      <td>7.68</td>\n",
              "    </tr>\n",
              "    <tr>\n",
              "      <th>4</th>\n",
              "      <td>0.62</td>\n",
              "      <td>Uber</td>\n",
              "      <td>West End</td>\n",
              "      <td>Haymarket Square</td>\n",
              "      <td>10.5028</td>\n",
              "      <td>1.0</td>\n",
              "      <td>UberXL</td>\n",
              "      <td>6</td>\n",
              "      <td>9</td>\n",
              "      <td>16.94</td>\n",
              "      <td>Haymarket Square - 2018-12-16 - 9</td>\n",
              "      <td>38.46</td>\n",
              "      <td>0.29</td>\n",
              "      <td>1022.25</td>\n",
              "      <td>0.0</td>\n",
              "      <td>0.76</td>\n",
              "      <td>7.68</td>\n",
              "    </tr>\n",
              "  </tbody>\n",
              "</table>\n",
              "</div>"
            ],
            "text/plain": [
              "   distance cab_type    destination  ... rain  humidity  wind\n",
              "0      0.44     Lyft  North Station  ...  0.0      0.76  7.68\n",
              "1      1.33     Lyft    Beacon Hill  ...  0.0      0.76  7.68\n",
              "2      0.53     Lyft  North Station  ...  0.0      0.76  7.68\n",
              "3      2.36     Lyft       Back Bay  ...  0.0      0.76  7.68\n",
              "4      0.62     Uber       West End  ...  0.0      0.76  7.68\n",
              "\n",
              "[5 rows x 17 columns]"
            ]
          },
          "metadata": {
            "tags": []
          },
          "execution_count": 20
        }
      ]
    },
    {
      "cell_type": "code",
      "metadata": {
        "id": "bh7EvkCQN9JU",
        "colab_type": "code",
        "colab": {}
      },
      "source": [
        "df_merged = df_merged.drop(['fare_per_mile','surge_multiplier'],axis=1)"
      ],
      "execution_count": 0,
      "outputs": []
    },
    {
      "cell_type": "code",
      "metadata": {
        "id": "KDiQf-tVRMJJ",
        "colab_type": "code",
        "colab": {}
      },
      "source": [
        "df_merged = df_merged.loc[:, df_merged.columns !='merge_date']"
      ],
      "execution_count": 0,
      "outputs": []
    },
    {
      "cell_type": "code",
      "metadata": {
        "id": "cNipl6FE9JDR",
        "colab_type": "code",
        "colab": {
          "base_uri": "https://localhost:8080/",
          "height": 102
        },
        "outputId": "28367030-7332-448c-9b4e-2e441fb2151c"
      },
      "source": [
        "OverallData = df_merged.drop(['cab_type'],axis=1)\n",
        "uber = df_merged[df_merged['cab_type']=='Uber']\n",
        "uber.reset_index(inplace=True)\n",
        "uber.drop('index', axis=1, inplace=True)\n",
        "lyft = df_merged[df_merged['cab_type']=='Lyft']\n",
        "lyft.reset_index(inplace=True)\n",
        "lyft.drop('index', axis=1, inplace=True)"
      ],
      "execution_count": 23,
      "outputs": [
        {
          "output_type": "stream",
          "text": [
            "/usr/local/lib/python3.6/dist-packages/pandas/core/frame.py:4117: SettingWithCopyWarning: \n",
            "A value is trying to be set on a copy of a slice from a DataFrame\n",
            "\n",
            "See the caveats in the documentation: http://pandas.pydata.org/pandas-docs/stable/user_guide/indexing.html#returning-a-view-versus-a-copy\n",
            "  errors=errors,\n"
          ],
          "name": "stderr"
        }
      ]
    },
    {
      "cell_type": "code",
      "metadata": {
        "id": "cg_Jo3vD9JDc",
        "colab_type": "code",
        "colab": {}
      },
      "source": [
        "# c_relation=Data.corr()\n",
        "# c_relation['price'].sort_values(ascending = False)"
      ],
      "execution_count": 0,
      "outputs": []
    },
    {
      "cell_type": "code",
      "metadata": {
        "id": "K0G-I0Iv9JDg",
        "colab_type": "code",
        "colab": {
          "base_uri": "https://localhost:8080/",
          "height": 102
        },
        "outputId": "d8429b47-ac35-4795-9799-7d3e597d46f6"
      },
      "source": [
        "uber.drop('cab_type', axis=1, inplace=True)\n",
        "lyft.drop('cab_type', axis=1, inplace=True)"
      ],
      "execution_count": 25,
      "outputs": [
        {
          "output_type": "stream",
          "text": [
            "/usr/local/lib/python3.6/dist-packages/pandas/core/frame.py:4117: SettingWithCopyWarning: \n",
            "A value is trying to be set on a copy of a slice from a DataFrame\n",
            "\n",
            "See the caveats in the documentation: http://pandas.pydata.org/pandas-docs/stable/user_guide/indexing.html#returning-a-view-versus-a-copy\n",
            "  errors=errors,\n"
          ],
          "name": "stderr"
        }
      ]
    },
    {
      "cell_type": "code",
      "metadata": {
        "id": "uXqQYbUEY3fR",
        "colab_type": "code",
        "colab": {
          "base_uri": "https://localhost:8080/",
          "height": 170
        },
        "outputId": "233eb331-13ca-461c-eda0-80f2c1f93037"
      },
      "source": [
        "#Data =OverallData.loc[:, OverallData.columns != 'merge_date'] \n",
        "print(OverallData.columns)\n",
        "print(uber.columns)\n",
        "print(lyft.columns)"
      ],
      "execution_count": 26,
      "outputs": [
        {
          "output_type": "stream",
          "text": [
            "Index(['distance', 'destination', 'source', 'price', 'name', 'day', 'hour',\n",
            "       'temp', 'clouds', 'pressure', 'rain', 'humidity', 'wind'],\n",
            "      dtype='object')\n",
            "Index(['distance', 'destination', 'source', 'price', 'name', 'day', 'hour',\n",
            "       'temp', 'clouds', 'pressure', 'rain', 'humidity', 'wind'],\n",
            "      dtype='object')\n",
            "Index(['distance', 'destination', 'source', 'price', 'name', 'day', 'hour',\n",
            "       'temp', 'clouds', 'pressure', 'rain', 'humidity', 'wind'],\n",
            "      dtype='object')\n"
          ],
          "name": "stdout"
        }
      ]
    },
    {
      "cell_type": "code",
      "metadata": {
        "id": "LXDQ4leoedLX",
        "colab_type": "code",
        "colab": {}
      },
      "source": [
        ""
      ],
      "execution_count": 0,
      "outputs": []
    },
    {
      "cell_type": "code",
      "metadata": {
        "id": "v4XbC8WMNE1c",
        "colab_type": "code",
        "colab": {
          "base_uri": "https://localhost:8080/",
          "height": 68
        },
        "outputId": "641ba943-b9e6-4ef5-bbbb-8460e807c973"
      },
      "source": [
        "print(OverallData.shape)\n",
        "print(uber.shape)\n",
        "print(lyft.shape)"
      ],
      "execution_count": 27,
      "outputs": [
        {
          "output_type": "stream",
          "text": [
            "(690107, 13)\n",
            "(384005, 13)\n",
            "(306102, 13)\n"
          ],
          "name": "stdout"
        }
      ]
    },
    {
      "cell_type": "code",
      "metadata": {
        "id": "m5vv7HRQ9JDh",
        "colab_type": "code",
        "colab": {}
      },
      "source": [
        "# OverallData = pd.get_dummies(OverallData)\n",
        "# uber = pd.get_dummies(uber)\n",
        "# lyft = pd.get_dummies(lyft)"
      ],
      "execution_count": 0,
      "outputs": []
    },
    {
      "cell_type": "code",
      "metadata": {
        "id": "RijrkPk2ehYp",
        "colab_type": "code",
        "colab": {
          "base_uri": "https://localhost:8080/",
          "height": 323
        },
        "outputId": "d5060fee-f372-4a70-d9f4-7e7951e57269"
      },
      "source": [
        "uber.info()"
      ],
      "execution_count": 29,
      "outputs": [
        {
          "output_type": "stream",
          "text": [
            "<class 'pandas.core.frame.DataFrame'>\n",
            "RangeIndex: 384005 entries, 0 to 384004\n",
            "Data columns (total 13 columns):\n",
            "distance       384005 non-null float64\n",
            "destination    384005 non-null object\n",
            "source         384005 non-null object\n",
            "price          384005 non-null float64\n",
            "name           384005 non-null object\n",
            "day            384005 non-null int64\n",
            "hour           384005 non-null int64\n",
            "temp           384005 non-null float64\n",
            "clouds         384005 non-null float64\n",
            "pressure       384005 non-null float64\n",
            "rain           384005 non-null float64\n",
            "humidity       384005 non-null float64\n",
            "wind           384005 non-null float64\n",
            "dtypes: float64(8), int64(2), object(3)\n",
            "memory usage: 38.1+ MB\n"
          ],
          "name": "stdout"
        }
      ]
    },
    {
      "cell_type": "code",
      "metadata": {
        "id": "YBjOHnXM9JDj",
        "colab_type": "code",
        "colab": {}
      },
      "source": [
        "# c_relation = Data.corr()\n",
        "# c_relation['price'].sort_values(ascending = False)"
      ],
      "execution_count": 0,
      "outputs": []
    },
    {
      "cell_type": "code",
      "metadata": {
        "id": "B4_ZluvK9JDl",
        "colab_type": "code",
        "colab": {}
      },
      "source": [
        "\n",
        "Xd = OverallData.loc[:, OverallData.columns != 'price']\n",
        "#Xd = pd.get_dummies(Xd)\n",
        "yd = OverallData['price']\n",
        "Xd_train,Xd_test,yd_train,yd_test = train_test_split(Xd,yd,test_size = 0.33, random_state=42)"
      ],
      "execution_count": 0,
      "outputs": []
    },
    {
      "cell_type": "code",
      "metadata": {
        "id": "rhhsEg-eZNRA",
        "colab_type": "code",
        "colab": {}
      },
      "source": [
        "\n",
        "Xu = uber.loc[:, uber.columns != 'price']\n",
        "#Xu = pd.get_dummies(Xu)\n",
        "yu = uber['price']\n",
        "Xu_train,Xu_test,yu_train,yu_test = train_test_split(Xu,yu,test_size = 0.33, random_state=42)"
      ],
      "execution_count": 0,
      "outputs": []
    },
    {
      "cell_type": "code",
      "metadata": {
        "id": "fvd7WKnhZa8m",
        "colab_type": "code",
        "colab": {}
      },
      "source": [
        "\n",
        "Xl = lyft.loc[:, lyft.columns != 'price']\n",
        "#Xl = pd.get_dummies(Xl)\n",
        "yl = lyft['price']\n",
        "Xl_train,Xl_test,yl_train,yl_test = train_test_split(Xl,yl,test_size = 0.33, random_state=42)"
      ],
      "execution_count": 0,
      "outputs": []
    },
    {
      "cell_type": "code",
      "metadata": {
        "id": "x49BgPHlmYfc",
        "colab_type": "code",
        "colab": {
          "base_uri": "https://localhost:8080/",
          "height": 71
        },
        "outputId": "ce21c4ac-906f-4d46-e72b-7371e2ba27e3"
      },
      "source": [
        "# numerical_features = Xu.dtypes == 'float'\n",
        "# categorical_features = ~numerical_features\n",
        "# preprocess = make_column_transformer(\n",
        "#     (numerical_features, StandardScaler()),\n",
        "#     (categorical_features, OneHotEncoder()))\n",
        "# rt = RandomForestRegressor(n_estimators=200,random_state = 42)"
      ],
      "execution_count": 35,
      "outputs": [
        {
          "output_type": "stream",
          "text": [
            "/usr/local/lib/python3.6/dist-packages/sklearn/compose/_column_transformer.py:778: DeprecationWarning: `make_column_transformer` now expects (transformer, columns) as input tuples instead of (columns, transformer). This has been introduced in v0.20.1. `make_column_transformer` will stop accepting the deprecated (columns, transformer) order in v0.22.\n",
            "  warnings.warn(message, DeprecationWarning)\n"
          ],
          "name": "stderr"
        }
      ]
    },
    {
      "cell_type": "code",
      "metadata": {
        "id": "jD8cy6qum_Oj",
        "colab_type": "code",
        "colab": {}
      },
      "source": [
        "# pipe = make_pipeline(preprocess, rt)\n",
        "# pipe.fit(Xu_train, yu_train)\n",
        "# yu_pred = pipe.predict(Xu_test)\n",
        "# print('Mean Absolute Error:', metrics.mean_absolute_error(yu_test, yu_pred))\n",
        "# print('Mean Squared Error:', metrics.mean_squared_error(yu_test, yu_pred))\n",
        "# print('Root Mean Squared Error:', np.sqrt(metrics.mean_squared_error(yu_test, yu_pred)))\n",
        "# print('Mean Absolute Percentage Error:', np.mean(np.abs((yu_test - yu_pred) / yu_test)) * 100)"
      ],
      "execution_count": 0,
      "outputs": []
    },
    {
      "cell_type": "code",
      "metadata": {
        "id": "MrWLoFORivNj",
        "colab_type": "code",
        "colab": {}
      },
      "source": [
        "\n",
        "# pipe = Pipeline([('Scalar',StandardScaler()),('rf',RandomForestRegressor(random_state = 42))])\n",
        "# pipe.fit(Xu_train, yu_train)\n",
        "# preds = pipeline.predict(Xu_test)\n",
        "# np.mean(preds == yu_test)"
      ],
      "execution_count": 0,
      "outputs": []
    },
    {
      "cell_type": "code",
      "metadata": {
        "id": "C0TFregm9JDr",
        "colab_type": "code",
        "colab": {}
      },
      "source": [
        "from sklearn.model_selection import train_test_split\n",
        "\n",
        "X_train, X_test, y_train, y_test = train_test_split(X, y, test_size = 0.25, random_state = 42)\n",
        "X_train.shape"
      ],
      "execution_count": 0,
      "outputs": []
    },
    {
      "cell_type": "code",
      "metadata": {
        "id": "yp0vZdg99JDu",
        "colab_type": "code",
        "colab": {}
      },
      "source": [
        "from sklearn.ensemble import RandomForestRegressor,RandomForestClassifier\n",
        "from math import sqrt\n",
        "from sklearn.metrics import mean_squared_error\n",
        "from sklearn import metrics\n",
        "\n",
        "\n",
        "rf = RandomForestRegressor(n_estimators = 500, random_state = 42)\n",
        "# Train the model on uber training data\n",
        "rf.fit(Xu_train, yu_train)\n",
        "yu_pred = rf.predict(Xu_test)\n",
        "print('Mean Absolute Error:', metrics.mean_absolute_error(yu_test, yu_pred))\n",
        "print('Mean Squared Error:', metrics.mean_squared_error(yu_test, yu_pred))\n",
        "print('Root Mean Squared Error:', np.sqrt(metrics.mean_squared_error(yu_test, yu_pred)))\n",
        "print('Mean Absolute Percentage Error:', np.mean(np.abs((yu_test - yu_pred) / yu_test)) * 100)\n"
      ],
      "execution_count": 0,
      "outputs": []
    },
    {
      "cell_type": "code",
      "metadata": {
        "id": "BiJ1t8jHhwag",
        "colab_type": "code",
        "colab": {}
      },
      "source": [
        "# Train the model on lyft training data\n",
        "rf.fit(Xl_train, yl_train)\n",
        "yl_pred = rf.predict(Xl_test)\n",
        "print('Mean Absolute Error:', metrics.mean_absolute_error(yl_test, yl_pred))\n",
        "print('Mean Squared Error:', metrics.mean_squared_error(yl_test, yl_pred))\n",
        "print('Root Mean Squared Error:', np.sqrt(metrics.mean_squared_error(yl_test, yl_pred)))\n",
        "print('Mean Absolute Percentage Error:', np.mean(np.abs((yl_test - yl_pred) / yl_test)) * 100)\n"
      ],
      "execution_count": 0,
      "outputs": []
    },
    {
      "cell_type": "code",
      "metadata": {
        "id": "nYp9vJW2B3zc",
        "colab_type": "code",
        "colab": {}
      },
      "source": [
        "# Train the model on lyft training data\n",
        "rf.fit(Xd_train, yd_train)\n",
        "yd_pred = rf.predict(Xd_test)\n",
        "print('Mean Absolute Error:', metrics.mean_absolute_error(yd_test, yd_pred))\n",
        "print('Mean Squared Error:', metrics.mean_squared_error(yd_test, yd_pred))\n",
        "print('Root Mean Squared Error:', np.sqrt(metrics.mean_squared_error(yd_test, yd_pred)))\n",
        "print('Mean Absolute Percentage Error:', np.mean(np.abs((yd_test - yd_pred) / yd_test)) * 100)\n"
      ],
      "execution_count": 0,
      "outputs": []
    }
  ]
}