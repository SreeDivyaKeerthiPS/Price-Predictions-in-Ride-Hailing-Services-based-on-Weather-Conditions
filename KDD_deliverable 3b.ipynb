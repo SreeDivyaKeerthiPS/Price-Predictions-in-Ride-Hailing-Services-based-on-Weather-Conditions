{
  "nbformat": 4,
  "nbformat_minor": 0,
  "metadata": {
    "colab": {
      "name": "Untitled3.ipynb",
      "provenance": [],
      "collapsed_sections": []
    },
    "kernelspec": {
      "name": "python3",
      "display_name": "Python 3"
    }
  },
  "cells": [
    {
      "cell_type": "code",
      "metadata": {
        "id": "wfRr1A_Cgvu3",
        "colab_type": "code",
        "colab": {
          "base_uri": "https://localhost:8080/",
          "height": 34
        },
        "outputId": "9e502f4a-f1e5-42d2-97d7-84a03ea8d688"
      },
      "source": [
        "from google.colab import drive\n",
        "drive.mount('/content/gdrive')"
      ],
      "execution_count": 1,
      "outputs": [
        {
          "output_type": "stream",
          "text": [
            "Drive already mounted at /content/gdrive; to attempt to forcibly remount, call drive.mount(\"/content/gdrive\", force_remount=True).\n"
          ],
          "name": "stdout"
        }
      ]
    },
    {
      "cell_type": "code",
      "metadata": {
        "id": "RxC6zHlSg1OT",
        "colab_type": "code",
        "colab": {}
      },
      "source": [
        "import pandas as pd\n",
        "import numpy as np\n",
        "import seaborn as sns\n",
        "import matplotlib.pyplot as plt\n",
        "from sklearn import preprocessing\n",
        "from sklearn.preprocessing import StandardScaler "
      ],
      "execution_count": 0,
      "outputs": []
    },
    {
      "cell_type": "code",
      "metadata": {
        "id": "lxCQKsGLhCkl",
        "colab_type": "code",
        "colab": {}
      },
      "source": [
        "df_cab = pd.read_csv(\"/content/gdrive/My Drive/KDD/cab_rides.csv\")\n",
        "df_cab.reset_index(drop=True, inplace=True)"
      ],
      "execution_count": 0,
      "outputs": []
    },
    {
      "cell_type": "code",
      "metadata": {
        "id": "LOOKgVlChEvL",
        "colab_type": "code",
        "colab": {
          "base_uri": "https://localhost:8080/",
          "height": 269
        },
        "outputId": "e62ad384-80d3-4109-9d6b-46af9979373b"
      },
      "source": [
        "df_cab.info()"
      ],
      "execution_count": 4,
      "outputs": [
        {
          "output_type": "stream",
          "text": [
            "<class 'pandas.core.frame.DataFrame'>\n",
            "RangeIndex: 693071 entries, 0 to 693070\n",
            "Data columns (total 10 columns):\n",
            "distance            693071 non-null float64\n",
            "cab_type            693071 non-null object\n",
            "time_stamp          693071 non-null int64\n",
            "destination         693071 non-null object\n",
            "source              693071 non-null object\n",
            "price               637976 non-null float64\n",
            "surge_multiplier    693071 non-null float64\n",
            "id                  693071 non-null object\n",
            "product_id          693071 non-null object\n",
            "name                693071 non-null object\n",
            "dtypes: float64(3), int64(1), object(6)\n",
            "memory usage: 52.9+ MB\n"
          ],
          "name": "stdout"
        }
      ]
    },
    {
      "cell_type": "code",
      "metadata": {
        "id": "JeaI7IrihGYo",
        "colab_type": "code",
        "colab": {
          "base_uri": "https://localhost:8080/",
          "height": 34
        },
        "outputId": "d853cb51-0f24-4dfc-a041-ee6c098ef559"
      },
      "source": [
        "df_cab.shape"
      ],
      "execution_count": 5,
      "outputs": [
        {
          "output_type": "execute_result",
          "data": {
            "text/plain": [
              "(693071, 10)"
            ]
          },
          "metadata": {
            "tags": []
          },
          "execution_count": 5
        }
      ]
    },
    {
      "cell_type": "code",
      "metadata": {
        "id": "SkM1ws7vhI70",
        "colab_type": "code",
        "colab": {
          "base_uri": "https://localhost:8080/",
          "height": 34
        },
        "outputId": "66049ae3-820d-4a50-852f-3a7a3cc653fe"
      },
      "source": [
        "df_cab = df_cab.iloc[0:50, :]\n",
        "df_cab.shape"
      ],
      "execution_count": 6,
      "outputs": [
        {
          "output_type": "execute_result",
          "data": {
            "text/plain": [
              "(50, 10)"
            ]
          },
          "metadata": {
            "tags": []
          },
          "execution_count": 6
        }
      ]
    },
    {
      "cell_type": "code",
      "metadata": {
        "id": "3KA2gBxyhJUO",
        "colab_type": "code",
        "colab": {
          "base_uri": "https://localhost:8080/",
          "height": 106
        },
        "outputId": "795f4725-9d9f-423f-b689-b3d936fc2873"
      },
      "source": [
        "df_cab.head(2)"
      ],
      "execution_count": 7,
      "outputs": [
        {
          "output_type": "execute_result",
          "data": {
            "text/html": [
              "<div>\n",
              "<style scoped>\n",
              "    .dataframe tbody tr th:only-of-type {\n",
              "        vertical-align: middle;\n",
              "    }\n",
              "\n",
              "    .dataframe tbody tr th {\n",
              "        vertical-align: top;\n",
              "    }\n",
              "\n",
              "    .dataframe thead th {\n",
              "        text-align: right;\n",
              "    }\n",
              "</style>\n",
              "<table border=\"1\" class=\"dataframe\">\n",
              "  <thead>\n",
              "    <tr style=\"text-align: right;\">\n",
              "      <th></th>\n",
              "      <th>distance</th>\n",
              "      <th>cab_type</th>\n",
              "      <th>time_stamp</th>\n",
              "      <th>destination</th>\n",
              "      <th>source</th>\n",
              "      <th>price</th>\n",
              "      <th>surge_multiplier</th>\n",
              "      <th>id</th>\n",
              "      <th>product_id</th>\n",
              "      <th>name</th>\n",
              "    </tr>\n",
              "  </thead>\n",
              "  <tbody>\n",
              "    <tr>\n",
              "      <th>0</th>\n",
              "      <td>0.44</td>\n",
              "      <td>Lyft</td>\n",
              "      <td>1544952607890</td>\n",
              "      <td>North Station</td>\n",
              "      <td>Haymarket Square</td>\n",
              "      <td>5.0</td>\n",
              "      <td>1.0</td>\n",
              "      <td>424553bb-7174-41ea-aeb4-fe06d4f4b9d7</td>\n",
              "      <td>lyft_line</td>\n",
              "      <td>Shared</td>\n",
              "    </tr>\n",
              "    <tr>\n",
              "      <th>1</th>\n",
              "      <td>0.44</td>\n",
              "      <td>Lyft</td>\n",
              "      <td>1543284023677</td>\n",
              "      <td>North Station</td>\n",
              "      <td>Haymarket Square</td>\n",
              "      <td>11.0</td>\n",
              "      <td>1.0</td>\n",
              "      <td>4bd23055-6827-41c6-b23b-3c491f24e74d</td>\n",
              "      <td>lyft_premier</td>\n",
              "      <td>Lux</td>\n",
              "    </tr>\n",
              "  </tbody>\n",
              "</table>\n",
              "</div>"
            ],
            "text/plain": [
              "   distance cab_type  ...    product_id    name\n",
              "0      0.44     Lyft  ...     lyft_line  Shared\n",
              "1      0.44     Lyft  ...  lyft_premier     Lux\n",
              "\n",
              "[2 rows x 10 columns]"
            ]
          },
          "metadata": {
            "tags": []
          },
          "execution_count": 7
        }
      ]
    },
    {
      "cell_type": "code",
      "metadata": {
        "id": "Nu_GjjhThOKH",
        "colab_type": "code",
        "colab": {
          "base_uri": "https://localhost:8080/",
          "height": 284
        },
        "outputId": "31ec8d53-ba82-47e6-acf8-6f5b0056574b"
      },
      "source": [
        "df_cab.describe()"
      ],
      "execution_count": 8,
      "outputs": [
        {
          "output_type": "execute_result",
          "data": {
            "text/html": [
              "<div>\n",
              "<style scoped>\n",
              "    .dataframe tbody tr th:only-of-type {\n",
              "        vertical-align: middle;\n",
              "    }\n",
              "\n",
              "    .dataframe tbody tr th {\n",
              "        vertical-align: top;\n",
              "    }\n",
              "\n",
              "    .dataframe thead th {\n",
              "        text-align: right;\n",
              "    }\n",
              "</style>\n",
              "<table border=\"1\" class=\"dataframe\">\n",
              "  <thead>\n",
              "    <tr style=\"text-align: right;\">\n",
              "      <th></th>\n",
              "      <th>distance</th>\n",
              "      <th>time_stamp</th>\n",
              "      <th>price</th>\n",
              "      <th>surge_multiplier</th>\n",
              "    </tr>\n",
              "  </thead>\n",
              "  <tbody>\n",
              "    <tr>\n",
              "      <th>count</th>\n",
              "      <td>50.000000</td>\n",
              "      <td>5.000000e+01</td>\n",
              "      <td>47.000000</td>\n",
              "      <td>50.0</td>\n",
              "    </tr>\n",
              "    <tr>\n",
              "      <th>mean</th>\n",
              "      <td>1.718200</td>\n",
              "      <td>1.544085e+12</td>\n",
              "      <td>13.872340</td>\n",
              "      <td>1.0</td>\n",
              "    </tr>\n",
              "    <tr>\n",
              "      <th>std</th>\n",
              "      <td>0.978505</td>\n",
              "      <td>7.181103e+08</td>\n",
              "      <td>7.524213</td>\n",
              "      <td>0.0</td>\n",
              "    </tr>\n",
              "    <tr>\n",
              "      <th>min</th>\n",
              "      <td>0.440000</td>\n",
              "      <td>1.543209e+12</td>\n",
              "      <td>3.000000</td>\n",
              "      <td>1.0</td>\n",
              "    </tr>\n",
              "    <tr>\n",
              "      <th>25%</th>\n",
              "      <td>1.080000</td>\n",
              "      <td>1.543424e+12</td>\n",
              "      <td>8.000000</td>\n",
              "      <td>1.0</td>\n",
              "    </tr>\n",
              "    <tr>\n",
              "      <th>50%</th>\n",
              "      <td>1.435000</td>\n",
              "      <td>1.543759e+12</td>\n",
              "      <td>12.000000</td>\n",
              "      <td>1.0</td>\n",
              "    </tr>\n",
              "    <tr>\n",
              "      <th>75%</th>\n",
              "      <td>2.480000</td>\n",
              "      <td>1.544847e+12</td>\n",
              "      <td>18.000000</td>\n",
              "      <td>1.0</td>\n",
              "    </tr>\n",
              "    <tr>\n",
              "      <th>max</th>\n",
              "      <td>3.240000</td>\n",
              "      <td>1.545133e+12</td>\n",
              "      <td>29.500000</td>\n",
              "      <td>1.0</td>\n",
              "    </tr>\n",
              "  </tbody>\n",
              "</table>\n",
              "</div>"
            ],
            "text/plain": [
              "        distance    time_stamp      price  surge_multiplier\n",
              "count  50.000000  5.000000e+01  47.000000              50.0\n",
              "mean    1.718200  1.544085e+12  13.872340               1.0\n",
              "std     0.978505  7.181103e+08   7.524213               0.0\n",
              "min     0.440000  1.543209e+12   3.000000               1.0\n",
              "25%     1.080000  1.543424e+12   8.000000               1.0\n",
              "50%     1.435000  1.543759e+12  12.000000               1.0\n",
              "75%     2.480000  1.544847e+12  18.000000               1.0\n",
              "max     3.240000  1.545133e+12  29.500000               1.0"
            ]
          },
          "metadata": {
            "tags": []
          },
          "execution_count": 8
        }
      ]
    },
    {
      "cell_type": "code",
      "metadata": {
        "id": "jP18IKd_hOeS",
        "colab_type": "code",
        "colab": {
          "base_uri": "https://localhost:8080/",
          "height": 202
        },
        "outputId": "7cab5f7d-c49c-4d82-b53d-518d10d51133"
      },
      "source": [
        "df_cab.isnull().sum()"
      ],
      "execution_count": 9,
      "outputs": [
        {
          "output_type": "execute_result",
          "data": {
            "text/plain": [
              "distance            0\n",
              "cab_type            0\n",
              "time_stamp          0\n",
              "destination         0\n",
              "source              0\n",
              "price               3\n",
              "surge_multiplier    0\n",
              "id                  0\n",
              "product_id          0\n",
              "name                0\n",
              "dtype: int64"
            ]
          },
          "metadata": {
            "tags": []
          },
          "execution_count": 9
        }
      ]
    },
    {
      "cell_type": "code",
      "metadata": {
        "id": "f6IG-b8DhSsP",
        "colab_type": "code",
        "colab": {
          "base_uri": "https://localhost:8080/",
          "height": 67
        },
        "outputId": "f8e5750a-e6a6-41d0-a868-29f9e6a4985d"
      },
      "source": [
        "df_cab['cab_type'].value_counts()"
      ],
      "execution_count": 10,
      "outputs": [
        {
          "output_type": "execute_result",
          "data": {
            "text/plain": [
              "Lyft    29\n",
              "Uber    21\n",
              "Name: cab_type, dtype: int64"
            ]
          },
          "metadata": {
            "tags": []
          },
          "execution_count": 10
        }
      ]
    },
    {
      "cell_type": "code",
      "metadata": {
        "id": "56jeHThKhU-G",
        "colab_type": "code",
        "colab": {
          "base_uri": "https://localhost:8080/",
          "height": 134
        },
        "outputId": "29d09ea3-7058-4b07-c708-e90870b3b34a"
      },
      "source": [
        "df_cab['destination'].value_counts()"
      ],
      "execution_count": 11,
      "outputs": [
        {
          "output_type": "execute_result",
          "data": {
            "text/plain": [
              "South Station              13\n",
              "Northeastern University    11\n",
              "West End                    7\n",
              "Fenway                      7\n",
              "Haymarket Square            6\n",
              "North Station               6\n",
              "Name: destination, dtype: int64"
            ]
          },
          "metadata": {
            "tags": []
          },
          "execution_count": 11
        }
      ]
    },
    {
      "cell_type": "code",
      "metadata": {
        "id": "tqmbgMLNhVKt",
        "colab_type": "code",
        "colab": {
          "base_uri": "https://localhost:8080/",
          "height": 118
        },
        "outputId": "edfe2094-c1d5-41ef-b796-fdacc18e4409"
      },
      "source": [
        "df_cab['source'].value_counts()"
      ],
      "execution_count": 12,
      "outputs": [
        {
          "output_type": "execute_result",
          "data": {
            "text/plain": [
              "North Station       24\n",
              "North End            7\n",
              "Beacon Hill          7\n",
              "Back Bay             6\n",
              "Haymarket Square     6\n",
              "Name: source, dtype: int64"
            ]
          },
          "metadata": {
            "tags": []
          },
          "execution_count": 12
        }
      ]
    },
    {
      "cell_type": "code",
      "metadata": {
        "id": "lDO5_e-ihWcb",
        "colab_type": "code",
        "colab": {
          "base_uri": "https://localhost:8080/",
          "height": 50
        },
        "outputId": "ebf9aa43-4630-40db-b122-67ace34e2957"
      },
      "source": [
        "df_cab['surge_multiplier'].value_counts()"
      ],
      "execution_count": 13,
      "outputs": [
        {
          "output_type": "execute_result",
          "data": {
            "text/plain": [
              "1.0    50\n",
              "Name: surge_multiplier, dtype: int64"
            ]
          },
          "metadata": {
            "tags": []
          },
          "execution_count": 13
        }
      ]
    },
    {
      "cell_type": "code",
      "metadata": {
        "id": "sxall8vvhaIS",
        "colab_type": "code",
        "colab": {
          "base_uri": "https://localhost:8080/",
          "height": 252
        },
        "outputId": "56572daa-83d7-4c4d-fb0e-75084b81593e"
      },
      "source": [
        "df_cab['name'].value_counts()"
      ],
      "execution_count": 14,
      "outputs": [
        {
          "output_type": "execute_result",
          "data": {
            "text/plain": [
              "Shared          5\n",
              "Lyft            5\n",
              "Lyft XL         5\n",
              "Lux Black       5\n",
              "Lux             5\n",
              "Lux Black XL    4\n",
              "Black           3\n",
              "UberX           3\n",
              "Black SUV       3\n",
              "Taxi            3\n",
              "UberPool        3\n",
              "UberXL          3\n",
              "WAV             3\n",
              "Name: name, dtype: int64"
            ]
          },
          "metadata": {
            "tags": []
          },
          "execution_count": 14
        }
      ]
    },
    {
      "cell_type": "code",
      "metadata": {
        "id": "97XWj67phb0c",
        "colab_type": "code",
        "colab": {}
      },
      "source": [
        "import datetime\n",
        "#convert 13digit time stamp to datetime format\n",
        "df_cab['time']= pd.to_datetime(df_cab['time_stamp']/1000, unit='s')\n",
        "df_cab['date']= df_cab['time'].dt.date\n",
        "#extract hours only\n",
        "#df_cab['hour']= df['time'].dt.hour\n",
        "df_cab['fare_per_mile']= round(df_cab.price/df_cab.distance,2)"
      ],
      "execution_count": 0,
      "outputs": []
    },
    {
      "cell_type": "code",
      "metadata": {
        "id": "guRcCiVwhd3z",
        "colab_type": "code",
        "colab": {
          "base_uri": "https://localhost:8080/",
          "height": 140
        },
        "outputId": "0d995d02-ad35-4ecf-9737-b72f270b96d0"
      },
      "source": [
        "df_cab.head(2)"
      ],
      "execution_count": 16,
      "outputs": [
        {
          "output_type": "execute_result",
          "data": {
            "text/html": [
              "<div>\n",
              "<style scoped>\n",
              "    .dataframe tbody tr th:only-of-type {\n",
              "        vertical-align: middle;\n",
              "    }\n",
              "\n",
              "    .dataframe tbody tr th {\n",
              "        vertical-align: top;\n",
              "    }\n",
              "\n",
              "    .dataframe thead th {\n",
              "        text-align: right;\n",
              "    }\n",
              "</style>\n",
              "<table border=\"1\" class=\"dataframe\">\n",
              "  <thead>\n",
              "    <tr style=\"text-align: right;\">\n",
              "      <th></th>\n",
              "      <th>distance</th>\n",
              "      <th>cab_type</th>\n",
              "      <th>time_stamp</th>\n",
              "      <th>destination</th>\n",
              "      <th>source</th>\n",
              "      <th>price</th>\n",
              "      <th>surge_multiplier</th>\n",
              "      <th>id</th>\n",
              "      <th>product_id</th>\n",
              "      <th>name</th>\n",
              "      <th>time</th>\n",
              "      <th>date</th>\n",
              "      <th>fare_per_mile</th>\n",
              "    </tr>\n",
              "  </thead>\n",
              "  <tbody>\n",
              "    <tr>\n",
              "      <th>0</th>\n",
              "      <td>0.44</td>\n",
              "      <td>Lyft</td>\n",
              "      <td>1544952607890</td>\n",
              "      <td>North Station</td>\n",
              "      <td>Haymarket Square</td>\n",
              "      <td>5.0</td>\n",
              "      <td>1.0</td>\n",
              "      <td>424553bb-7174-41ea-aeb4-fe06d4f4b9d7</td>\n",
              "      <td>lyft_line</td>\n",
              "      <td>Shared</td>\n",
              "      <td>2018-12-16 09:30:07.890000105</td>\n",
              "      <td>2018-12-16</td>\n",
              "      <td>11.36</td>\n",
              "    </tr>\n",
              "    <tr>\n",
              "      <th>1</th>\n",
              "      <td>0.44</td>\n",
              "      <td>Lyft</td>\n",
              "      <td>1543284023677</td>\n",
              "      <td>North Station</td>\n",
              "      <td>Haymarket Square</td>\n",
              "      <td>11.0</td>\n",
              "      <td>1.0</td>\n",
              "      <td>4bd23055-6827-41c6-b23b-3c491f24e74d</td>\n",
              "      <td>lyft_premier</td>\n",
              "      <td>Lux</td>\n",
              "      <td>2018-11-27 02:00:23.677000046</td>\n",
              "      <td>2018-11-27</td>\n",
              "      <td>25.00</td>\n",
              "    </tr>\n",
              "  </tbody>\n",
              "</table>\n",
              "</div>"
            ],
            "text/plain": [
              "   distance cab_type  ...        date fare_per_mile\n",
              "0      0.44     Lyft  ...  2018-12-16         11.36\n",
              "1      0.44     Lyft  ...  2018-11-27         25.00\n",
              "\n",
              "[2 rows x 13 columns]"
            ]
          },
          "metadata": {
            "tags": []
          },
          "execution_count": 16
        }
      ]
    },
    {
      "cell_type": "code",
      "metadata": {
        "id": "phnWVfzRhfNK",
        "colab_type": "code",
        "colab": {}
      },
      "source": [
        "del df_cab['time_stamp']"
      ],
      "execution_count": 0,
      "outputs": []
    },
    {
      "cell_type": "code",
      "metadata": {
        "id": "8MxrKJg1hhYd",
        "colab_type": "code",
        "colab": {
          "base_uri": "https://localhost:8080/",
          "height": 302
        },
        "outputId": "c9836944-676a-43c8-ee2e-beb3b04d07b3"
      },
      "source": [
        "df_cab.info()"
      ],
      "execution_count": 18,
      "outputs": [
        {
          "output_type": "stream",
          "text": [
            "<class 'pandas.core.frame.DataFrame'>\n",
            "RangeIndex: 50 entries, 0 to 49\n",
            "Data columns (total 12 columns):\n",
            "distance            50 non-null float64\n",
            "cab_type            50 non-null object\n",
            "destination         50 non-null object\n",
            "source              50 non-null object\n",
            "price               47 non-null float64\n",
            "surge_multiplier    50 non-null float64\n",
            "id                  50 non-null object\n",
            "product_id          50 non-null object\n",
            "name                50 non-null object\n",
            "time                50 non-null datetime64[ns]\n",
            "date                50 non-null object\n",
            "fare_per_mile       47 non-null float64\n",
            "dtypes: datetime64[ns](1), float64(4), object(7)\n",
            "memory usage: 4.8+ KB\n"
          ],
          "name": "stdout"
        }
      ]
    },
    {
      "cell_type": "code",
      "metadata": {
        "id": "oxctlQUUhl5Y",
        "colab_type": "code",
        "colab": {}
      },
      "source": [
        "df_cab['fare_per_mile'].isnull().sum()\n",
        "df_cab['fare_per_mile']=df_cab['fare_per_mile'].astype(float)\n",
        "df_cab['fare_per_mile'].fillna('2.8',inplace=True)\n",
        "df_cab['price'] = df_cab['fare_per_mile']*df_cab['distance']"
      ],
      "execution_count": 0,
      "outputs": []
    },
    {
      "cell_type": "code",
      "metadata": {
        "id": "V2cw8Bv-hmO9",
        "colab_type": "code",
        "colab": {
          "base_uri": "https://localhost:8080/",
          "height": 34
        },
        "outputId": "ad28d263-2dc7-4dad-9eb1-732210d1a09d"
      },
      "source": [
        "df_cab.price.isnull().sum()"
      ],
      "execution_count": 22,
      "outputs": [
        {
          "output_type": "execute_result",
          "data": {
            "text/plain": [
              "0"
            ]
          },
          "metadata": {
            "tags": []
          },
          "execution_count": 22
        }
      ]
    },
    {
      "cell_type": "code",
      "metadata": {
        "id": "EvDnUZqZhrKX",
        "colab_type": "code",
        "colab": {
          "base_uri": "https://localhost:8080/",
          "height": 1000
        },
        "outputId": "b7275e6e-9f4d-4c58-e99d-58579424fa07"
      },
      "source": [
        "df_cab"
      ],
      "execution_count": 23,
      "outputs": [
        {
          "output_type": "execute_result",
          "data": {
            "text/html": [
              "<div>\n",
              "<style scoped>\n",
              "    .dataframe tbody tr th:only-of-type {\n",
              "        vertical-align: middle;\n",
              "    }\n",
              "\n",
              "    .dataframe tbody tr th {\n",
              "        vertical-align: top;\n",
              "    }\n",
              "\n",
              "    .dataframe thead th {\n",
              "        text-align: right;\n",
              "    }\n",
              "</style>\n",
              "<table border=\"1\" class=\"dataframe\">\n",
              "  <thead>\n",
              "    <tr style=\"text-align: right;\">\n",
              "      <th></th>\n",
              "      <th>distance</th>\n",
              "      <th>cab_type</th>\n",
              "      <th>destination</th>\n",
              "      <th>source</th>\n",
              "      <th>price</th>\n",
              "      <th>surge_multiplier</th>\n",
              "      <th>id</th>\n",
              "      <th>product_id</th>\n",
              "      <th>name</th>\n",
              "      <th>time</th>\n",
              "      <th>date</th>\n",
              "      <th>fare_per_mile</th>\n",
              "    </tr>\n",
              "  </thead>\n",
              "  <tbody>\n",
              "    <tr>\n",
              "      <th>0</th>\n",
              "      <td>0.44</td>\n",
              "      <td>Lyft</td>\n",
              "      <td>North Station</td>\n",
              "      <td>Haymarket Square</td>\n",
              "      <td>4.9984</td>\n",
              "      <td>1.0</td>\n",
              "      <td>424553bb-7174-41ea-aeb4-fe06d4f4b9d7</td>\n",
              "      <td>lyft_line</td>\n",
              "      <td>Shared</td>\n",
              "      <td>2018-12-16 09:30:07.890000105</td>\n",
              "      <td>2018-12-16</td>\n",
              "      <td>11.36</td>\n",
              "    </tr>\n",
              "    <tr>\n",
              "      <th>1</th>\n",
              "      <td>0.44</td>\n",
              "      <td>Lyft</td>\n",
              "      <td>North Station</td>\n",
              "      <td>Haymarket Square</td>\n",
              "      <td>11.0000</td>\n",
              "      <td>1.0</td>\n",
              "      <td>4bd23055-6827-41c6-b23b-3c491f24e74d</td>\n",
              "      <td>lyft_premier</td>\n",
              "      <td>Lux</td>\n",
              "      <td>2018-11-27 02:00:23.677000046</td>\n",
              "      <td>2018-11-27</td>\n",
              "      <td>25.00</td>\n",
              "    </tr>\n",
              "    <tr>\n",
              "      <th>2</th>\n",
              "      <td>0.44</td>\n",
              "      <td>Lyft</td>\n",
              "      <td>North Station</td>\n",
              "      <td>Haymarket Square</td>\n",
              "      <td>7.0004</td>\n",
              "      <td>1.0</td>\n",
              "      <td>981a3613-77af-4620-a42a-0c0866077d1e</td>\n",
              "      <td>lyft</td>\n",
              "      <td>Lyft</td>\n",
              "      <td>2018-11-28 01:00:22.197999954</td>\n",
              "      <td>2018-11-28</td>\n",
              "      <td>15.91</td>\n",
              "    </tr>\n",
              "    <tr>\n",
              "      <th>3</th>\n",
              "      <td>0.44</td>\n",
              "      <td>Lyft</td>\n",
              "      <td>North Station</td>\n",
              "      <td>Haymarket Square</td>\n",
              "      <td>25.9996</td>\n",
              "      <td>1.0</td>\n",
              "      <td>c2d88af2-d278-4bfd-a8d0-29ca77cc5512</td>\n",
              "      <td>lyft_luxsuv</td>\n",
              "      <td>Lux Black XL</td>\n",
              "      <td>2018-11-30 04:53:02.749000072</td>\n",
              "      <td>2018-11-30</td>\n",
              "      <td>59.09</td>\n",
              "    </tr>\n",
              "    <tr>\n",
              "      <th>4</th>\n",
              "      <td>0.44</td>\n",
              "      <td>Lyft</td>\n",
              "      <td>North Station</td>\n",
              "      <td>Haymarket Square</td>\n",
              "      <td>8.9980</td>\n",
              "      <td>1.0</td>\n",
              "      <td>e0126e1f-8ca9-4f2e-82b3-50505a09db9a</td>\n",
              "      <td>lyft_plus</td>\n",
              "      <td>Lyft XL</td>\n",
              "      <td>2018-11-29 03:49:20.223000050</td>\n",
              "      <td>2018-11-29</td>\n",
              "      <td>20.45</td>\n",
              "    </tr>\n",
              "    <tr>\n",
              "      <th>5</th>\n",
              "      <td>0.44</td>\n",
              "      <td>Lyft</td>\n",
              "      <td>North Station</td>\n",
              "      <td>Haymarket Square</td>\n",
              "      <td>16.5000</td>\n",
              "      <td>1.0</td>\n",
              "      <td>f6f6d7e4-3e18-4922-a5f5-181cdd3fa6f2</td>\n",
              "      <td>lyft_lux</td>\n",
              "      <td>Lux Black</td>\n",
              "      <td>2018-12-17 18:25:12.138000011</td>\n",
              "      <td>2018-12-17</td>\n",
              "      <td>37.50</td>\n",
              "    </tr>\n",
              "    <tr>\n",
              "      <th>6</th>\n",
              "      <td>1.08</td>\n",
              "      <td>Lyft</td>\n",
              "      <td>Northeastern University</td>\n",
              "      <td>Back Bay</td>\n",
              "      <td>10.4976</td>\n",
              "      <td>1.0</td>\n",
              "      <td>462816a3-820d-408b-8549-0b39e82f65ac</td>\n",
              "      <td>lyft_plus</td>\n",
              "      <td>Lyft XL</td>\n",
              "      <td>2018-11-26 05:03:00.200000048</td>\n",
              "      <td>2018-11-26</td>\n",
              "      <td>9.72</td>\n",
              "    </tr>\n",
              "    <tr>\n",
              "      <th>7</th>\n",
              "      <td>1.08</td>\n",
              "      <td>Lyft</td>\n",
              "      <td>Northeastern University</td>\n",
              "      <td>Back Bay</td>\n",
              "      <td>16.5024</td>\n",
              "      <td>1.0</td>\n",
              "      <td>474d6376-bc59-4ec9-bf57-4e6d6faeb165</td>\n",
              "      <td>lyft_lux</td>\n",
              "      <td>Lux Black</td>\n",
              "      <td>2018-12-02 19:53:04.677000046</td>\n",
              "      <td>2018-12-02</td>\n",
              "      <td>15.28</td>\n",
              "    </tr>\n",
              "    <tr>\n",
              "      <th>8</th>\n",
              "      <td>1.08</td>\n",
              "      <td>Lyft</td>\n",
              "      <td>Northeastern University</td>\n",
              "      <td>Back Bay</td>\n",
              "      <td>3.0024</td>\n",
              "      <td>1.0</td>\n",
              "      <td>4f9fee41-fde3-4767-bbf1-a00e108701fb</td>\n",
              "      <td>lyft_line</td>\n",
              "      <td>Shared</td>\n",
              "      <td>2018-12-03 06:28:02.644999981</td>\n",
              "      <td>2018-12-03</td>\n",
              "      <td>2.78</td>\n",
              "    </tr>\n",
              "    <tr>\n",
              "      <th>9</th>\n",
              "      <td>1.08</td>\n",
              "      <td>Lyft</td>\n",
              "      <td>Northeastern University</td>\n",
              "      <td>Back Bay</td>\n",
              "      <td>27.4968</td>\n",
              "      <td>1.0</td>\n",
              "      <td>8612d909-98b8-4454-a093-30bd48de0cb3</td>\n",
              "      <td>lyft_luxsuv</td>\n",
              "      <td>Lux Black XL</td>\n",
              "      <td>2018-11-27 10:45:22.249000072</td>\n",
              "      <td>2018-11-27</td>\n",
              "      <td>25.46</td>\n",
              "    </tr>\n",
              "    <tr>\n",
              "      <th>10</th>\n",
              "      <td>1.08</td>\n",
              "      <td>Lyft</td>\n",
              "      <td>Northeastern University</td>\n",
              "      <td>Back Bay</td>\n",
              "      <td>13.5000</td>\n",
              "      <td>1.0</td>\n",
              "      <td>9043bf77-1d45-4a93-9520-a083e0277f16</td>\n",
              "      <td>lyft_premier</td>\n",
              "      <td>Lux</td>\n",
              "      <td>2018-11-30 16:13:03.881999969</td>\n",
              "      <td>2018-11-30</td>\n",
              "      <td>12.50</td>\n",
              "    </tr>\n",
              "    <tr>\n",
              "      <th>11</th>\n",
              "      <td>1.08</td>\n",
              "      <td>Lyft</td>\n",
              "      <td>Northeastern University</td>\n",
              "      <td>Back Bay</td>\n",
              "      <td>6.9984</td>\n",
              "      <td>1.0</td>\n",
              "      <td>d859ec69-b3ff-4af8-9abd-441e31430c94</td>\n",
              "      <td>lyft</td>\n",
              "      <td>Lyft</td>\n",
              "      <td>2018-11-28 19:23:07.778000116</td>\n",
              "      <td>2018-11-28</td>\n",
              "      <td>6.48</td>\n",
              "    </tr>\n",
              "    <tr>\n",
              "      <th>12</th>\n",
              "      <td>1.11</td>\n",
              "      <td>Uber</td>\n",
              "      <td>West End</td>\n",
              "      <td>North End</td>\n",
              "      <td>11.9991</td>\n",
              "      <td>1.0</td>\n",
              "      <td>009e9c53-074d-43cf-aef2-0fbc7a47ed3d</td>\n",
              "      <td>6f72dfc5-27f1-42e8-84db-ccc7a75f6969</td>\n",
              "      <td>UberXL</td>\n",
              "      <td>2018-11-30 22:13:01.178999901</td>\n",
              "      <td>2018-11-30</td>\n",
              "      <td>10.81</td>\n",
              "    </tr>\n",
              "    <tr>\n",
              "      <th>13</th>\n",
              "      <td>1.11</td>\n",
              "      <td>Uber</td>\n",
              "      <td>West End</td>\n",
              "      <td>North End</td>\n",
              "      <td>15.9951</td>\n",
              "      <td>1.0</td>\n",
              "      <td>23f145da-f0c1-4d1f-a184-496bc003a7db</td>\n",
              "      <td>6c84fd89-3f11-4782-9b50-97c468b19529</td>\n",
              "      <td>Black</td>\n",
              "      <td>2018-12-13 10:50:11.013999939</td>\n",
              "      <td>2018-12-13</td>\n",
              "      <td>14.41</td>\n",
              "    </tr>\n",
              "    <tr>\n",
              "      <th>14</th>\n",
              "      <td>1.11</td>\n",
              "      <td>Uber</td>\n",
              "      <td>West End</td>\n",
              "      <td>North End</td>\n",
              "      <td>7.5036</td>\n",
              "      <td>1.0</td>\n",
              "      <td>357559cb-8c58-4278-a41a-e33b2e0997a3</td>\n",
              "      <td>55c66225-fbe7-4fd5-9072-eab1ece5e23e</td>\n",
              "      <td>UberX</td>\n",
              "      <td>2018-12-13 19:15:03.934999943</td>\n",
              "      <td>2018-12-13</td>\n",
              "      <td>6.76</td>\n",
              "    </tr>\n",
              "    <tr>\n",
              "      <th>15</th>\n",
              "      <td>1.11</td>\n",
              "      <td>Uber</td>\n",
              "      <td>West End</td>\n",
              "      <td>North End</td>\n",
              "      <td>7.5036</td>\n",
              "      <td>1.0</td>\n",
              "      <td>50ef1165-9d23-416c-a65c-18906207b295</td>\n",
              "      <td>9a0e7b09-b92b-4c41-9779-2ad22b4d779d</td>\n",
              "      <td>WAV</td>\n",
              "      <td>2018-12-16 23:55:11.430000067</td>\n",
              "      <td>2018-12-16</td>\n",
              "      <td>6.76</td>\n",
              "    </tr>\n",
              "    <tr>\n",
              "      <th>16</th>\n",
              "      <td>1.11</td>\n",
              "      <td>Uber</td>\n",
              "      <td>West End</td>\n",
              "      <td>North End</td>\n",
              "      <td>25.9962</td>\n",
              "      <td>1.0</td>\n",
              "      <td>91c4861c-1780-42b0-bca1-bbd64a422cc3</td>\n",
              "      <td>6d318bcc-22a3-4af6-bddd-b409bfce1546</td>\n",
              "      <td>Black SUV</td>\n",
              "      <td>2018-12-14 00:40:07.960999966</td>\n",
              "      <td>2018-12-14</td>\n",
              "      <td>23.42</td>\n",
              "    </tr>\n",
              "    <tr>\n",
              "      <th>17</th>\n",
              "      <td>1.11</td>\n",
              "      <td>Uber</td>\n",
              "      <td>West End</td>\n",
              "      <td>North End</td>\n",
              "      <td>5.4945</td>\n",
              "      <td>1.0</td>\n",
              "      <td>e219e545-a006-4936-a6cc-7d00adf0e418</td>\n",
              "      <td>997acbb5-e102-41e1-b155-9df7de0a73f2</td>\n",
              "      <td>UberPool</td>\n",
              "      <td>2018-11-29 19:18:00.802000046</td>\n",
              "      <td>2018-11-29</td>\n",
              "      <td>4.95</td>\n",
              "    </tr>\n",
              "    <tr>\n",
              "      <th>18</th>\n",
              "      <td>1.11</td>\n",
              "      <td>Uber</td>\n",
              "      <td>West End</td>\n",
              "      <td>North End</td>\n",
              "      <td>3.1080</td>\n",
              "      <td>1.0</td>\n",
              "      <td>fa5fb705-03a0-4eb9-82d9-7fe80872f754</td>\n",
              "      <td>8cf7e821-f0d3-49c6-8eba-e679c0ebcf6a</td>\n",
              "      <td>Taxi</td>\n",
              "      <td>2018-12-01 14:13:04.210999966</td>\n",
              "      <td>2018-12-01</td>\n",
              "      <td>2.80</td>\n",
              "    </tr>\n",
              "    <tr>\n",
              "      <th>19</th>\n",
              "      <td>0.72</td>\n",
              "      <td>Lyft</td>\n",
              "      <td>Haymarket Square</td>\n",
              "      <td>North Station</td>\n",
              "      <td>11.0016</td>\n",
              "      <td>1.0</td>\n",
              "      <td>18d580ac-c91a-4b6d-aa75-ab62566f713e</td>\n",
              "      <td>lyft_plus</td>\n",
              "      <td>Lyft XL</td>\n",
              "      <td>2018-12-16 06:15:11.552999973</td>\n",
              "      <td>2018-12-16</td>\n",
              "      <td>15.28</td>\n",
              "    </tr>\n",
              "    <tr>\n",
              "      <th>20</th>\n",
              "      <td>0.72</td>\n",
              "      <td>Lyft</td>\n",
              "      <td>Haymarket Square</td>\n",
              "      <td>North Station</td>\n",
              "      <td>16.5024</td>\n",
              "      <td>1.0</td>\n",
              "      <td>3ef5c509-f292-42ef-b39c-bce7059006a0</td>\n",
              "      <td>lyft_lux</td>\n",
              "      <td>Lux Black</td>\n",
              "      <td>2018-11-27 19:18:22.540999889</td>\n",
              "      <td>2018-11-27</td>\n",
              "      <td>22.92</td>\n",
              "    </tr>\n",
              "    <tr>\n",
              "      <th>21</th>\n",
              "      <td>0.72</td>\n",
              "      <td>Lyft</td>\n",
              "      <td>Haymarket Square</td>\n",
              "      <td>North Station</td>\n",
              "      <td>6.9984</td>\n",
              "      <td>1.0</td>\n",
              "      <td>5ef44fdf-c5d3-4d07-967a-a8710e537e74</td>\n",
              "      <td>lyft</td>\n",
              "      <td>Lyft</td>\n",
              "      <td>2018-12-18 11:35:05.654000044</td>\n",
              "      <td>2018-12-18</td>\n",
              "      <td>9.72</td>\n",
              "    </tr>\n",
              "    <tr>\n",
              "      <th>22</th>\n",
              "      <td>0.72</td>\n",
              "      <td>Lyft</td>\n",
              "      <td>Haymarket Square</td>\n",
              "      <td>North Station</td>\n",
              "      <td>3.4992</td>\n",
              "      <td>1.0</td>\n",
              "      <td>a7c1afce-9781-41c9-b6a6-df109ad43ccd</td>\n",
              "      <td>lyft_line</td>\n",
              "      <td>Shared</td>\n",
              "      <td>2018-11-30 02:28:04.042000055</td>\n",
              "      <td>2018-11-30</td>\n",
              "      <td>4.86</td>\n",
              "    </tr>\n",
              "    <tr>\n",
              "      <th>23</th>\n",
              "      <td>0.72</td>\n",
              "      <td>Lyft</td>\n",
              "      <td>Haymarket Square</td>\n",
              "      <td>North Station</td>\n",
              "      <td>25.9992</td>\n",
              "      <td>1.0</td>\n",
              "      <td>d0782aae-4cfa-45df-b6e4-e300b09c2563</td>\n",
              "      <td>lyft_luxsuv</td>\n",
              "      <td>Lux Black XL</td>\n",
              "      <td>2018-12-16 16:40:06.463000059</td>\n",
              "      <td>2018-12-16</td>\n",
              "      <td>36.11</td>\n",
              "    </tr>\n",
              "    <tr>\n",
              "      <th>24</th>\n",
              "      <td>0.72</td>\n",
              "      <td>Lyft</td>\n",
              "      <td>Haymarket Square</td>\n",
              "      <td>North Station</td>\n",
              "      <td>13.5000</td>\n",
              "      <td>1.0</td>\n",
              "      <td>f4f03d2d-434b-41f3-935a-c29e3f2de8bd</td>\n",
              "      <td>lyft_premier</td>\n",
              "      <td>Lux</td>\n",
              "      <td>2018-11-26 07:46:11.798000097</td>\n",
              "      <td>2018-11-26</td>\n",
              "      <td>18.75</td>\n",
              "    </tr>\n",
              "    <tr>\n",
              "      <th>25</th>\n",
              "      <td>2.48</td>\n",
              "      <td>Uber</td>\n",
              "      <td>South Station</td>\n",
              "      <td>Beacon Hill</td>\n",
              "      <td>8.5064</td>\n",
              "      <td>1.0</td>\n",
              "      <td>1d451059-895c-4179-8cec-40adfbc4f6d3</td>\n",
              "      <td>9a0e7b09-b92b-4c41-9779-2ad22b4d779d</td>\n",
              "      <td>WAV</td>\n",
              "      <td>2018-12-17 20:40:09.832000017</td>\n",
              "      <td>2018-12-17</td>\n",
              "      <td>3.43</td>\n",
              "    </tr>\n",
              "    <tr>\n",
              "      <th>26</th>\n",
              "      <td>2.48</td>\n",
              "      <td>Uber</td>\n",
              "      <td>South Station</td>\n",
              "      <td>Beacon Hill</td>\n",
              "      <td>15.0040</td>\n",
              "      <td>1.0</td>\n",
              "      <td>1f64fcff-b01f-4b64-90f4-5c866d717317</td>\n",
              "      <td>6f72dfc5-27f1-42e8-84db-ccc7a75f6969</td>\n",
              "      <td>UberXL</td>\n",
              "      <td>2018-12-16 03:40:13.778000116</td>\n",
              "      <td>2018-12-16</td>\n",
              "      <td>6.05</td>\n",
              "    </tr>\n",
              "    <tr>\n",
              "      <th>27</th>\n",
              "      <td>2.48</td>\n",
              "      <td>Uber</td>\n",
              "      <td>South Station</td>\n",
              "      <td>Beacon Hill</td>\n",
              "      <td>20.5096</td>\n",
              "      <td>1.0</td>\n",
              "      <td>2ca4699c-21e1-4fb4-9cc2-1d6221199d08</td>\n",
              "      <td>6c84fd89-3f11-4782-9b50-97c468b19529</td>\n",
              "      <td>Black</td>\n",
              "      <td>2018-11-27 13:21:22.052000046</td>\n",
              "      <td>2018-11-27</td>\n",
              "      <td>8.27</td>\n",
              "    </tr>\n",
              "    <tr>\n",
              "      <th>28</th>\n",
              "      <td>2.48</td>\n",
              "      <td>Uber</td>\n",
              "      <td>South Station</td>\n",
              "      <td>Beacon Hill</td>\n",
              "      <td>8.5064</td>\n",
              "      <td>1.0</td>\n",
              "      <td>4149295f-4534-4712-b2cf-160308528c75</td>\n",
              "      <td>55c66225-fbe7-4fd5-9072-eab1ece5e23e</td>\n",
              "      <td>UberX</td>\n",
              "      <td>2018-12-13 10:40:11.530999899</td>\n",
              "      <td>2018-12-13</td>\n",
              "      <td>3.43</td>\n",
              "    </tr>\n",
              "    <tr>\n",
              "      <th>29</th>\n",
              "      <td>2.48</td>\n",
              "      <td>Uber</td>\n",
              "      <td>South Station</td>\n",
              "      <td>Beacon Hill</td>\n",
              "      <td>6.9936</td>\n",
              "      <td>1.0</td>\n",
              "      <td>80d2a972-2686-4edc-bc22-ddccdf211fde</td>\n",
              "      <td>997acbb5-e102-41e1-b155-9df7de0a73f2</td>\n",
              "      <td>UberPool</td>\n",
              "      <td>2018-12-17 22:25:12.519000052</td>\n",
              "      <td>2018-12-17</td>\n",
              "      <td>2.82</td>\n",
              "    </tr>\n",
              "    <tr>\n",
              "      <th>30</th>\n",
              "      <td>2.48</td>\n",
              "      <td>Uber</td>\n",
              "      <td>South Station</td>\n",
              "      <td>Beacon Hill</td>\n",
              "      <td>27.5032</td>\n",
              "      <td>1.0</td>\n",
              "      <td>8674e79f-4c5b-4a2e-8327-a68997d5d740</td>\n",
              "      <td>6d318bcc-22a3-4af6-bddd-b409bfce1546</td>\n",
              "      <td>Black SUV</td>\n",
              "      <td>2018-12-14 20:05:08.118000031</td>\n",
              "      <td>2018-12-14</td>\n",
              "      <td>11.09</td>\n",
              "    </tr>\n",
              "    <tr>\n",
              "      <th>31</th>\n",
              "      <td>2.48</td>\n",
              "      <td>Uber</td>\n",
              "      <td>South Station</td>\n",
              "      <td>Beacon Hill</td>\n",
              "      <td>6.9440</td>\n",
              "      <td>1.0</td>\n",
              "      <td>eee70d94-6706-4b95-a8ce-0e34f0fa8f37</td>\n",
              "      <td>8cf7e821-f0d3-49c6-8eba-e679c0ebcf6a</td>\n",
              "      <td>Taxi</td>\n",
              "      <td>2018-12-02 23:52:56.318000078</td>\n",
              "      <td>2018-12-02</td>\n",
              "      <td>2.80</td>\n",
              "    </tr>\n",
              "    <tr>\n",
              "      <th>32</th>\n",
              "      <td>3.24</td>\n",
              "      <td>Lyft</td>\n",
              "      <td>Northeastern University</td>\n",
              "      <td>North Station</td>\n",
              "      <td>3.4992</td>\n",
              "      <td>1.0</td>\n",
              "      <td>00dd58fc-fa9e-4eeb-bb6e-dfeb94611e85</td>\n",
              "      <td>lyft_line</td>\n",
              "      <td>Shared</td>\n",
              "      <td>2018-11-27 03:30:22.292000055</td>\n",
              "      <td>2018-11-27</td>\n",
              "      <td>1.08</td>\n",
              "    </tr>\n",
              "    <tr>\n",
              "      <th>33</th>\n",
              "      <td>3.24</td>\n",
              "      <td>Lyft</td>\n",
              "      <td>Northeastern University</td>\n",
              "      <td>North Station</td>\n",
              "      <td>11.0160</td>\n",
              "      <td>1.0</td>\n",
              "      <td>174b960d-58f1-4dfd-8672-8b43f13726a7</td>\n",
              "      <td>lyft</td>\n",
              "      <td>Lyft</td>\n",
              "      <td>2018-12-02 18:23:07.499000072</td>\n",
              "      <td>2018-12-02</td>\n",
              "      <td>3.40</td>\n",
              "    </tr>\n",
              "    <tr>\n",
              "      <th>34</th>\n",
              "      <td>3.24</td>\n",
              "      <td>Lyft</td>\n",
              "      <td>Northeastern University</td>\n",
              "      <td>North Station</td>\n",
              "      <td>19.5048</td>\n",
              "      <td>1.0</td>\n",
              "      <td>1d34b421-4ee7-4ec5-bba5-265f43b91a4e</td>\n",
              "      <td>lyft_premier</td>\n",
              "      <td>Lux</td>\n",
              "      <td>2018-12-14 19:45:05.598000050</td>\n",
              "      <td>2018-12-14</td>\n",
              "      <td>6.02</td>\n",
              "    </tr>\n",
              "    <tr>\n",
              "      <th>35</th>\n",
              "      <td>3.24</td>\n",
              "      <td>Lyft</td>\n",
              "      <td>Northeastern University</td>\n",
              "      <td>North Station</td>\n",
              "      <td>25.9848</td>\n",
              "      <td>1.0</td>\n",
              "      <td>72fb8672-a823-447e-ae15-fd51aef9db66</td>\n",
              "      <td>lyft_lux</td>\n",
              "      <td>Lux Black</td>\n",
              "      <td>2018-12-02 09:33:02.105000019</td>\n",
              "      <td>2018-12-02</td>\n",
              "      <td>8.02</td>\n",
              "    </tr>\n",
              "    <tr>\n",
              "      <th>36</th>\n",
              "      <td>3.24</td>\n",
              "      <td>Lyft</td>\n",
              "      <td>Northeastern University</td>\n",
              "      <td>North Station</td>\n",
              "      <td>16.4916</td>\n",
              "      <td>1.0</td>\n",
              "      <td>e61386a3-b205-49b4-b064-990b124ecfa2</td>\n",
              "      <td>lyft_plus</td>\n",
              "      <td>Lyft XL</td>\n",
              "      <td>2018-12-14 00:30:10.815999985</td>\n",
              "      <td>2018-12-14</td>\n",
              "      <td>5.09</td>\n",
              "    </tr>\n",
              "    <tr>\n",
              "      <th>37</th>\n",
              "      <td>2.94</td>\n",
              "      <td>Uber</td>\n",
              "      <td>Fenway</td>\n",
              "      <td>North Station</td>\n",
              "      <td>29.4882</td>\n",
              "      <td>1.0</td>\n",
              "      <td>39f120bf-ddc0-4d27-8ab4-bb7d46ecf8e3</td>\n",
              "      <td>6d318bcc-22a3-4af6-bddd-b409bfce1546</td>\n",
              "      <td>Black SUV</td>\n",
              "      <td>2018-12-01 04:32:57.654000044</td>\n",
              "      <td>2018-12-01</td>\n",
              "      <td>10.03</td>\n",
              "    </tr>\n",
              "    <tr>\n",
              "      <th>38</th>\n",
              "      <td>2.94</td>\n",
              "      <td>Uber</td>\n",
              "      <td>Fenway</td>\n",
              "      <td>North Station</td>\n",
              "      <td>9.4962</td>\n",
              "      <td>1.0</td>\n",
              "      <td>4d36b792-8973-4dd2-aaf9-aacaac046bd5</td>\n",
              "      <td>9a0e7b09-b92b-4c41-9779-2ad22b4d779d</td>\n",
              "      <td>WAV</td>\n",
              "      <td>2018-11-28 14:23:07.719000101</td>\n",
              "      <td>2018-11-28</td>\n",
              "      <td>3.23</td>\n",
              "    </tr>\n",
              "    <tr>\n",
              "      <th>39</th>\n",
              "      <td>2.94</td>\n",
              "      <td>Uber</td>\n",
              "      <td>Fenway</td>\n",
              "      <td>North Station</td>\n",
              "      <td>14.9940</td>\n",
              "      <td>1.0</td>\n",
              "      <td>53bc8bc7-0b27-4648-9742-d7956d2a13a8</td>\n",
              "      <td>6f72dfc5-27f1-42e8-84db-ccc7a75f6969</td>\n",
              "      <td>UberXL</td>\n",
              "      <td>2018-12-02 08:32:56.844000101</td>\n",
              "      <td>2018-12-02</td>\n",
              "      <td>5.10</td>\n",
              "    </tr>\n",
              "    <tr>\n",
              "      <th>40</th>\n",
              "      <td>2.94</td>\n",
              "      <td>Uber</td>\n",
              "      <td>Fenway</td>\n",
              "      <td>North Station</td>\n",
              "      <td>8.2320</td>\n",
              "      <td>1.0</td>\n",
              "      <td>7f47ff53-7cf2-4a6a-8049-83c90e042593</td>\n",
              "      <td>8cf7e821-f0d3-49c6-8eba-e679c0ebcf6a</td>\n",
              "      <td>Taxi</td>\n",
              "      <td>2018-11-29 20:38:05.298000097</td>\n",
              "      <td>2018-11-29</td>\n",
              "      <td>2.80</td>\n",
              "    </tr>\n",
              "    <tr>\n",
              "      <th>41</th>\n",
              "      <td>2.94</td>\n",
              "      <td>Uber</td>\n",
              "      <td>Fenway</td>\n",
              "      <td>North Station</td>\n",
              "      <td>9.4962</td>\n",
              "      <td>1.0</td>\n",
              "      <td>c05d4e09-3f00-43cf-a0d8-6f38c0f4d04a</td>\n",
              "      <td>55c66225-fbe7-4fd5-9072-eab1ece5e23e</td>\n",
              "      <td>UberX</td>\n",
              "      <td>2018-12-14 12:05:05.467999935</td>\n",
              "      <td>2018-12-14</td>\n",
              "      <td>3.23</td>\n",
              "    </tr>\n",
              "    <tr>\n",
              "      <th>42</th>\n",
              "      <td>2.94</td>\n",
              "      <td>Uber</td>\n",
              "      <td>Fenway</td>\n",
              "      <td>North Station</td>\n",
              "      <td>21.9912</td>\n",
              "      <td>1.0</td>\n",
              "      <td>c7d4bb19-3c35-46c7-ad3c-f00a03ccfdfe</td>\n",
              "      <td>6c84fd89-3f11-4782-9b50-97c468b19529</td>\n",
              "      <td>Black</td>\n",
              "      <td>2018-11-27 02:33:22.089999914</td>\n",
              "      <td>2018-11-27</td>\n",
              "      <td>7.48</td>\n",
              "    </tr>\n",
              "    <tr>\n",
              "      <th>43</th>\n",
              "      <td>2.94</td>\n",
              "      <td>Uber</td>\n",
              "      <td>Fenway</td>\n",
              "      <td>North Station</td>\n",
              "      <td>8.9964</td>\n",
              "      <td>1.0</td>\n",
              "      <td>d25c46f2-b8a3-454d-97d1-4e2c8e1dff68</td>\n",
              "      <td>997acbb5-e102-41e1-b155-9df7de0a73f2</td>\n",
              "      <td>UberPool</td>\n",
              "      <td>2018-12-15 06:45:10.163000107</td>\n",
              "      <td>2018-12-15</td>\n",
              "      <td>3.06</td>\n",
              "    </tr>\n",
              "    <tr>\n",
              "      <th>44</th>\n",
              "      <td>1.76</td>\n",
              "      <td>Lyft</td>\n",
              "      <td>South Station</td>\n",
              "      <td>North Station</td>\n",
              "      <td>4.9984</td>\n",
              "      <td>1.0</td>\n",
              "      <td>0c26c153-a58d-419d-b557-37cfad67585c</td>\n",
              "      <td>lyft_line</td>\n",
              "      <td>Shared</td>\n",
              "      <td>2018-11-28 10:17:07.398000002</td>\n",
              "      <td>2018-11-28</td>\n",
              "      <td>2.84</td>\n",
              "    </tr>\n",
              "    <tr>\n",
              "      <th>45</th>\n",
              "      <td>1.76</td>\n",
              "      <td>Lyft</td>\n",
              "      <td>South Station</td>\n",
              "      <td>North Station</td>\n",
              "      <td>8.9936</td>\n",
              "      <td>1.0</td>\n",
              "      <td>104ced5c-1c1b-4021-94bb-b21af453399a</td>\n",
              "      <td>lyft</td>\n",
              "      <td>Lyft</td>\n",
              "      <td>2018-12-16 12:30:14.096999884</td>\n",
              "      <td>2018-12-16</td>\n",
              "      <td>5.11</td>\n",
              "    </tr>\n",
              "    <tr>\n",
              "      <th>46</th>\n",
              "      <td>1.76</td>\n",
              "      <td>Lyft</td>\n",
              "      <td>South Station</td>\n",
              "      <td>North Station</td>\n",
              "      <td>16.5088</td>\n",
              "      <td>1.0</td>\n",
              "      <td>1cf8a0a5-d871-41ba-91c7-53658851501e</td>\n",
              "      <td>lyft_premier</td>\n",
              "      <td>Lux</td>\n",
              "      <td>2018-12-16 00:40:11.286999941</td>\n",
              "      <td>2018-12-16</td>\n",
              "      <td>9.38</td>\n",
              "    </tr>\n",
              "    <tr>\n",
              "      <th>47</th>\n",
              "      <td>1.76</td>\n",
              "      <td>Lyft</td>\n",
              "      <td>South Station</td>\n",
              "      <td>North Station</td>\n",
              "      <td>25.9952</td>\n",
              "      <td>1.0</td>\n",
              "      <td>5e990c7a-8f5c-4583-812c-b6200dd018f6</td>\n",
              "      <td>lyft_luxsuv</td>\n",
              "      <td>Lux Black XL</td>\n",
              "      <td>2018-12-15 14:15:09.319999933</td>\n",
              "      <td>2018-12-15</td>\n",
              "      <td>14.77</td>\n",
              "    </tr>\n",
              "    <tr>\n",
              "      <th>48</th>\n",
              "      <td>1.76</td>\n",
              "      <td>Lyft</td>\n",
              "      <td>South Station</td>\n",
              "      <td>North Station</td>\n",
              "      <td>13.4992</td>\n",
              "      <td>1.0</td>\n",
              "      <td>bd1d5b1a-ed7f-4fc8-8fd1-9236a5de403e</td>\n",
              "      <td>lyft_plus</td>\n",
              "      <td>Lyft XL</td>\n",
              "      <td>2018-11-27 10:00:22.029000044</td>\n",
              "      <td>2018-11-27</td>\n",
              "      <td>7.67</td>\n",
              "    </tr>\n",
              "    <tr>\n",
              "      <th>49</th>\n",
              "      <td>1.76</td>\n",
              "      <td>Lyft</td>\n",
              "      <td>South Station</td>\n",
              "      <td>North Station</td>\n",
              "      <td>19.5008</td>\n",
              "      <td>1.0</td>\n",
              "      <td>c7a2284b-2f7b-49a8-8d5b-90e1ebe18a1f</td>\n",
              "      <td>lyft_lux</td>\n",
              "      <td>Lux Black</td>\n",
              "      <td>2018-11-28 16:08:08.000000000</td>\n",
              "      <td>2018-11-28</td>\n",
              "      <td>11.08</td>\n",
              "    </tr>\n",
              "  </tbody>\n",
              "</table>\n",
              "</div>"
            ],
            "text/plain": [
              "    distance cab_type  ...        date fare_per_mile\n",
              "0       0.44     Lyft  ...  2018-12-16         11.36\n",
              "1       0.44     Lyft  ...  2018-11-27         25.00\n",
              "2       0.44     Lyft  ...  2018-11-28         15.91\n",
              "3       0.44     Lyft  ...  2018-11-30         59.09\n",
              "4       0.44     Lyft  ...  2018-11-29         20.45\n",
              "5       0.44     Lyft  ...  2018-12-17         37.50\n",
              "6       1.08     Lyft  ...  2018-11-26          9.72\n",
              "7       1.08     Lyft  ...  2018-12-02         15.28\n",
              "8       1.08     Lyft  ...  2018-12-03          2.78\n",
              "9       1.08     Lyft  ...  2018-11-27         25.46\n",
              "10      1.08     Lyft  ...  2018-11-30         12.50\n",
              "11      1.08     Lyft  ...  2018-11-28          6.48\n",
              "12      1.11     Uber  ...  2018-11-30         10.81\n",
              "13      1.11     Uber  ...  2018-12-13         14.41\n",
              "14      1.11     Uber  ...  2018-12-13          6.76\n",
              "15      1.11     Uber  ...  2018-12-16          6.76\n",
              "16      1.11     Uber  ...  2018-12-14         23.42\n",
              "17      1.11     Uber  ...  2018-11-29          4.95\n",
              "18      1.11     Uber  ...  2018-12-01          2.80\n",
              "19      0.72     Lyft  ...  2018-12-16         15.28\n",
              "20      0.72     Lyft  ...  2018-11-27         22.92\n",
              "21      0.72     Lyft  ...  2018-12-18          9.72\n",
              "22      0.72     Lyft  ...  2018-11-30          4.86\n",
              "23      0.72     Lyft  ...  2018-12-16         36.11\n",
              "24      0.72     Lyft  ...  2018-11-26         18.75\n",
              "25      2.48     Uber  ...  2018-12-17          3.43\n",
              "26      2.48     Uber  ...  2018-12-16          6.05\n",
              "27      2.48     Uber  ...  2018-11-27          8.27\n",
              "28      2.48     Uber  ...  2018-12-13          3.43\n",
              "29      2.48     Uber  ...  2018-12-17          2.82\n",
              "30      2.48     Uber  ...  2018-12-14         11.09\n",
              "31      2.48     Uber  ...  2018-12-02          2.80\n",
              "32      3.24     Lyft  ...  2018-11-27          1.08\n",
              "33      3.24     Lyft  ...  2018-12-02          3.40\n",
              "34      3.24     Lyft  ...  2018-12-14          6.02\n",
              "35      3.24     Lyft  ...  2018-12-02          8.02\n",
              "36      3.24     Lyft  ...  2018-12-14          5.09\n",
              "37      2.94     Uber  ...  2018-12-01         10.03\n",
              "38      2.94     Uber  ...  2018-11-28          3.23\n",
              "39      2.94     Uber  ...  2018-12-02          5.10\n",
              "40      2.94     Uber  ...  2018-11-29          2.80\n",
              "41      2.94     Uber  ...  2018-12-14          3.23\n",
              "42      2.94     Uber  ...  2018-11-27          7.48\n",
              "43      2.94     Uber  ...  2018-12-15          3.06\n",
              "44      1.76     Lyft  ...  2018-11-28          2.84\n",
              "45      1.76     Lyft  ...  2018-12-16          5.11\n",
              "46      1.76     Lyft  ...  2018-12-16          9.38\n",
              "47      1.76     Lyft  ...  2018-12-15         14.77\n",
              "48      1.76     Lyft  ...  2018-11-27          7.67\n",
              "49      1.76     Lyft  ...  2018-11-28         11.08\n",
              "\n",
              "[50 rows x 12 columns]"
            ]
          },
          "metadata": {
            "tags": []
          },
          "execution_count": 23
        }
      ]
    },
    {
      "cell_type": "code",
      "metadata": {
        "id": "acVRMwq3hu0M",
        "colab_type": "code",
        "colab": {
          "base_uri": "https://localhost:8080/",
          "height": 660
        },
        "outputId": "c03cbdce-980c-4a9b-a0aa-6291542d9069"
      },
      "source": [
        "df_corr = df_cab.corr()\n",
        "plt.figure( figsize = (16,10))\n",
        "sns.heatmap(df_corr, cmap = 'coolwarm',annot = True)"
      ],
      "execution_count": 24,
      "outputs": [
        {
          "output_type": "execute_result",
          "data": {
            "text/plain": [
              "<matplotlib.axes._subplots.AxesSubplot at 0x7f4776dc5f98>"
            ]
          },
          "metadata": {
            "tags": []
          },
          "execution_count": 24
        },
        {
          "output_type": "display_data",
          "data": {
            "image/png": "[encoded data removed]",
            "text/plain": [
              "<Figure size 1152x720 with 2 Axes>"
            ]
          },
          "metadata": {
            "tags": []
          }
        }
      ]
    },
    {
      "cell_type": "code",
      "metadata": {
        "id": "ktucl6PXhvOh",
        "colab_type": "code",
        "colab": {
          "base_uri": "https://localhost:8080/",
          "height": 266
        },
        "outputId": "1238f710-2df6-4559-84b1-85bbaba1d1dd"
      },
      "source": [
        "x=['Uber','Lyft']\n",
        "y = [df_cab.cab_type[(df_cab.cab_type)=='Uber'].count(),df_cab.cab_type[(df_cab.cab_type)=='Lyft'].count()]\n",
        "vis1= sns.barplot(x,y,palette='Pastel1')"
      ],
      "execution_count": 25,
      "outputs": [
        {
          "output_type": "display_data",
          "data": {
            "image/png": "[encoded data removed]",
            "text/plain": [
              "<Figure size 432x288 with 1 Axes>"
            ]
          },
          "metadata": {
            "tags": []
          }
        }
      ]
    },
    {
      "cell_type": "code",
      "metadata": {
        "id": "EDMfAvbphx87",
        "colab_type": "code",
        "colab": {
          "base_uri": "https://localhost:8080/",
          "height": 106
        },
        "outputId": "e7b95970-6723-4349-95f3-7fb6bd2c9e6a"
      },
      "source": [
        "df_weather=pd.read_csv(\"/content/gdrive/My Drive/KDD/weather.csv\")\n",
        "df_weather.head(2)"
      ],
      "execution_count": 26,
      "outputs": [
        {
          "output_type": "execute_result",
          "data": {
            "text/html": [
              "<div>\n",
              "<style scoped>\n",
              "    .dataframe tbody tr th:only-of-type {\n",
              "        vertical-align: middle;\n",
              "    }\n",
              "\n",
              "    .dataframe tbody tr th {\n",
              "        vertical-align: top;\n",
              "    }\n",
              "\n",
              "    .dataframe thead th {\n",
              "        text-align: right;\n",
              "    }\n",
              "</style>\n",
              "<table border=\"1\" class=\"dataframe\">\n",
              "  <thead>\n",
              "    <tr style=\"text-align: right;\">\n",
              "      <th></th>\n",
              "      <th>temp</th>\n",
              "      <th>location</th>\n",
              "      <th>clouds</th>\n",
              "      <th>pressure</th>\n",
              "      <th>rain</th>\n",
              "      <th>time_stamp</th>\n",
              "      <th>humidity</th>\n",
              "      <th>wind</th>\n",
              "    </tr>\n",
              "  </thead>\n",
              "  <tbody>\n",
              "    <tr>\n",
              "      <th>0</th>\n",
              "      <td>42.42</td>\n",
              "      <td>Back Bay</td>\n",
              "      <td>1.0</td>\n",
              "      <td>1012.14</td>\n",
              "      <td>0.1228</td>\n",
              "      <td>1545003901</td>\n",
              "      <td>0.77</td>\n",
              "      <td>11.25</td>\n",
              "    </tr>\n",
              "    <tr>\n",
              "      <th>1</th>\n",
              "      <td>42.43</td>\n",
              "      <td>Beacon Hill</td>\n",
              "      <td>1.0</td>\n",
              "      <td>1012.15</td>\n",
              "      <td>0.1846</td>\n",
              "      <td>1545003901</td>\n",
              "      <td>0.76</td>\n",
              "      <td>11.32</td>\n",
              "    </tr>\n",
              "  </tbody>\n",
              "</table>\n",
              "</div>"
            ],
            "text/plain": [
              "    temp     location  clouds  pressure    rain  time_stamp  humidity   wind\n",
              "0  42.42     Back Bay     1.0   1012.14  0.1228  1545003901      0.77  11.25\n",
              "1  42.43  Beacon Hill     1.0   1012.15  0.1846  1545003901      0.76  11.32"
            ]
          },
          "metadata": {
            "tags": []
          },
          "execution_count": 26
        }
      ]
    },
    {
      "cell_type": "code",
      "metadata": {
        "id": "GLbl3JFrhzaP",
        "colab_type": "code",
        "colab": {
          "base_uri": "https://localhost:8080/",
          "height": 106
        },
        "outputId": "9d9ed467-c7e2-487b-c14e-cf3b38839b8c"
      },
      "source": [
        "df_weather['time']= pd.to_datetime(df_weather['time_stamp'], unit='s')\n",
        "df_weather['date']=df_weather['time'].dt.date\n",
        "del df_weather['time_stamp']\n",
        "df_weather.head(2)"
      ],
      "execution_count": 27,
      "outputs": [
        {
          "output_type": "execute_result",
          "data": {
            "text/html": [
              "<div>\n",
              "<style scoped>\n",
              "    .dataframe tbody tr th:only-of-type {\n",
              "        vertical-align: middle;\n",
              "    }\n",
              "\n",
              "    .dataframe tbody tr th {\n",
              "        vertical-align: top;\n",
              "    }\n",
              "\n",
              "    .dataframe thead th {\n",
              "        text-align: right;\n",
              "    }\n",
              "</style>\n",
              "<table border=\"1\" class=\"dataframe\">\n",
              "  <thead>\n",
              "    <tr style=\"text-align: right;\">\n",
              "      <th></th>\n",
              "      <th>temp</th>\n",
              "      <th>location</th>\n",
              "      <th>clouds</th>\n",
              "      <th>pressure</th>\n",
              "      <th>rain</th>\n",
              "      <th>humidity</th>\n",
              "      <th>wind</th>\n",
              "      <th>time</th>\n",
              "      <th>date</th>\n",
              "    </tr>\n",
              "  </thead>\n",
              "  <tbody>\n",
              "    <tr>\n",
              "      <th>0</th>\n",
              "      <td>42.42</td>\n",
              "      <td>Back Bay</td>\n",
              "      <td>1.0</td>\n",
              "      <td>1012.14</td>\n",
              "      <td>0.1228</td>\n",
              "      <td>0.77</td>\n",
              "      <td>11.25</td>\n",
              "      <td>2018-12-16 23:45:01</td>\n",
              "      <td>2018-12-16</td>\n",
              "    </tr>\n",
              "    <tr>\n",
              "      <th>1</th>\n",
              "      <td>42.43</td>\n",
              "      <td>Beacon Hill</td>\n",
              "      <td>1.0</td>\n",
              "      <td>1012.15</td>\n",
              "      <td>0.1846</td>\n",
              "      <td>0.76</td>\n",
              "      <td>11.32</td>\n",
              "      <td>2018-12-16 23:45:01</td>\n",
              "      <td>2018-12-16</td>\n",
              "    </tr>\n",
              "  </tbody>\n",
              "</table>\n",
              "</div>"
            ],
            "text/plain": [
              "    temp     location  clouds  ...   wind                time        date\n",
              "0  42.42     Back Bay     1.0  ...  11.25 2018-12-16 23:45:01  2018-12-16\n",
              "1  42.43  Beacon Hill     1.0  ...  11.32 2018-12-16 23:45:01  2018-12-16\n",
              "\n",
              "[2 rows x 9 columns]"
            ]
          },
          "metadata": {
            "tags": []
          },
          "execution_count": 27
        }
      ]
    },
    {
      "cell_type": "code",
      "metadata": {
        "id": "GouthY5IiD1q",
        "colab_type": "code",
        "colab": {
          "base_uri": "https://localhost:8080/",
          "height": 227
        },
        "outputId": "c17f1067-c99e-48a0-fa6d-81bcf9760a8e"
      },
      "source": [
        "df_merged= pd.merge(df_cab,df_weather, right_on='date',left_on='date',how='left')\n",
        "df_merged.head(2)"
      ],
      "execution_count": 28,
      "outputs": [
        {
          "output_type": "execute_result",
          "data": {
            "text/html": [
              "<div>\n",
              "<style scoped>\n",
              "    .dataframe tbody tr th:only-of-type {\n",
              "        vertical-align: middle;\n",
              "    }\n",
              "\n",
              "    .dataframe tbody tr th {\n",
              "        vertical-align: top;\n",
              "    }\n",
              "\n",
              "    .dataframe thead th {\n",
              "        text-align: right;\n",
              "    }\n",
              "</style>\n",
              "<table border=\"1\" class=\"dataframe\">\n",
              "  <thead>\n",
              "    <tr style=\"text-align: right;\">\n",
              "      <th></th>\n",
              "      <th>distance</th>\n",
              "      <th>cab_type</th>\n",
              "      <th>destination</th>\n",
              "      <th>source</th>\n",
              "      <th>price</th>\n",
              "      <th>surge_multiplier</th>\n",
              "      <th>id</th>\n",
              "      <th>product_id</th>\n",
              "      <th>name</th>\n",
              "      <th>time_x</th>\n",
              "      <th>date</th>\n",
              "      <th>fare_per_mile</th>\n",
              "      <th>temp</th>\n",
              "      <th>location</th>\n",
              "      <th>clouds</th>\n",
              "      <th>pressure</th>\n",
              "      <th>rain</th>\n",
              "      <th>humidity</th>\n",
              "      <th>wind</th>\n",
              "      <th>time_y</th>\n",
              "    </tr>\n",
              "  </thead>\n",
              "  <tbody>\n",
              "    <tr>\n",
              "      <th>0</th>\n",
              "      <td>0.44</td>\n",
              "      <td>Lyft</td>\n",
              "      <td>North Station</td>\n",
              "      <td>Haymarket Square</td>\n",
              "      <td>4.9984</td>\n",
              "      <td>1.0</td>\n",
              "      <td>424553bb-7174-41ea-aeb4-fe06d4f4b9d7</td>\n",
              "      <td>lyft_line</td>\n",
              "      <td>Shared</td>\n",
              "      <td>2018-12-16 09:30:07.890000105</td>\n",
              "      <td>2018-12-16</td>\n",
              "      <td>11.36</td>\n",
              "      <td>42.42</td>\n",
              "      <td>Back Bay</td>\n",
              "      <td>1.0</td>\n",
              "      <td>1012.14</td>\n",
              "      <td>0.1228</td>\n",
              "      <td>0.77</td>\n",
              "      <td>11.25</td>\n",
              "      <td>2018-12-16 23:45:01</td>\n",
              "    </tr>\n",
              "    <tr>\n",
              "      <th>1</th>\n",
              "      <td>0.44</td>\n",
              "      <td>Lyft</td>\n",
              "      <td>North Station</td>\n",
              "      <td>Haymarket Square</td>\n",
              "      <td>4.9984</td>\n",
              "      <td>1.0</td>\n",
              "      <td>424553bb-7174-41ea-aeb4-fe06d4f4b9d7</td>\n",
              "      <td>lyft_line</td>\n",
              "      <td>Shared</td>\n",
              "      <td>2018-12-16 09:30:07.890000105</td>\n",
              "      <td>2018-12-16</td>\n",
              "      <td>11.36</td>\n",
              "      <td>42.43</td>\n",
              "      <td>Beacon Hill</td>\n",
              "      <td>1.0</td>\n",
              "      <td>1012.15</td>\n",
              "      <td>0.1846</td>\n",
              "      <td>0.76</td>\n",
              "      <td>11.32</td>\n",
              "      <td>2018-12-16 23:45:01</td>\n",
              "    </tr>\n",
              "  </tbody>\n",
              "</table>\n",
              "</div>"
            ],
            "text/plain": [
              "   distance cab_type    destination  ... humidity   wind              time_y\n",
              "0      0.44     Lyft  North Station  ...     0.77  11.25 2018-12-16 23:45:01\n",
              "1      0.44     Lyft  North Station  ...     0.76  11.32 2018-12-16 23:45:01\n",
              "\n",
              "[2 rows x 20 columns]"
            ]
          },
          "metadata": {
            "tags": []
          },
          "execution_count": 28
        }
      ]
    },
    {
      "cell_type": "code",
      "metadata": {
        "id": "O9Ee-KMciEGz",
        "colab_type": "code",
        "colab": {
          "base_uri": "https://localhost:8080/",
          "height": 437
        },
        "outputId": "75c83fba-a0a8-4f03-caa0-644790c70638"
      },
      "source": [
        "df_merged.info()"
      ],
      "execution_count": 29,
      "outputs": [
        {
          "output_type": "stream",
          "text": [
            "<class 'pandas.core.frame.DataFrame'>\n",
            "Int64Index: 23064 entries, 0 to 23063\n",
            "Data columns (total 20 columns):\n",
            "distance            23064 non-null float64\n",
            "cab_type            23064 non-null object\n",
            "destination         23064 non-null object\n",
            "source              23064 non-null object\n",
            "price               23064 non-null float64\n",
            "surge_multiplier    23064 non-null float64\n",
            "id                  23064 non-null object\n",
            "product_id          23064 non-null object\n",
            "name                23064 non-null object\n",
            "time_x              23064 non-null datetime64[ns]\n",
            "date                23064 non-null object\n",
            "fare_per_mile       23064 non-null float64\n",
            "temp                23064 non-null float64\n",
            "location            23064 non-null object\n",
            "clouds              23064 non-null float64\n",
            "pressure            23064 non-null float64\n",
            "rain                4574 non-null float64\n",
            "humidity            23064 non-null float64\n",
            "wind                23064 non-null float64\n",
            "time_y              23064 non-null datetime64[ns]\n",
            "dtypes: datetime64[ns](2), float64(10), object(8)\n",
            "memory usage: 3.7+ MB\n"
          ],
          "name": "stdout"
        }
      ]
    },
    {
      "cell_type": "code",
      "metadata": {
        "id": "McwTwdFt4FFK",
        "colab_type": "code",
        "colab": {
          "base_uri": "https://localhost:8080/",
          "height": 34
        },
        "outputId": "fa2d017f-15f9-4e2e-9ea2-7980f08eabf9"
      },
      "source": [
        "df_merged.shape\n"
      ],
      "execution_count": 30,
      "outputs": [
        {
          "output_type": "execute_result",
          "data": {
            "text/plain": [
              "(23064, 20)"
            ]
          },
          "metadata": {
            "tags": []
          },
          "execution_count": 30
        }
      ]
    },
    {
      "cell_type": "code",
      "metadata": {
        "id": "tHMxd52eiFlq",
        "colab_type": "code",
        "colab": {
          "base_uri": "https://localhost:8080/",
          "height": 622
        },
        "outputId": "1c2c480b-f57b-4cf2-9375-79e91d60fe87"
      },
      "source": [
        "from sklearn.model_selection import train_test_split\n",
        "df_merged['rain'].fillna(0,inplace=True)\n",
        "df_X1 = df_merged.loc[:, df_merged.columns != 'price']\n",
        "df_X2 = df_X1.loc[:, df_X1.columns != 'time_x']\n",
        "df_X = df_X2.loc[:, df_X2.columns != 'time_y']\n",
        "#df_X = df_merged[['distance','temp','clouds', 'pressure','humidity', 'wind', 'rain']]\n",
        "df_y = df_merged[['price']]\n",
        "X_train, X_test, y_train, y_test = train_test_split(df_X, df_y, test_size=0.3, random_state=42)\n",
        "print(X_train.count())\n",
        "print(X_test.count())"
      ],
      "execution_count": 31,
      "outputs": [
        {
          "output_type": "stream",
          "text": [
            "distance            16144\n",
            "cab_type            16144\n",
            "destination         16144\n",
            "source              16144\n",
            "surge_multiplier    16144\n",
            "id                  16144\n",
            "product_id          16144\n",
            "name                16144\n",
            "date                16144\n",
            "fare_per_mile       16144\n",
            "temp                16144\n",
            "location            16144\n",
            "clouds              16144\n",
            "pressure            16144\n",
            "rain                16144\n",
            "humidity            16144\n",
            "wind                16144\n",
            "dtype: int64\n",
            "distance            6920\n",
            "cab_type            6920\n",
            "destination         6920\n",
            "source              6920\n",
            "surge_multiplier    6920\n",
            "id                  6920\n",
            "product_id          6920\n",
            "name                6920\n",
            "date                6920\n",
            "fare_per_mile       6920\n",
            "temp                6920\n",
            "location            6920\n",
            "clouds              6920\n",
            "pressure            6920\n",
            "rain                6920\n",
            "humidity            6920\n",
            "wind                6920\n",
            "dtype: int64\n"
          ],
          "name": "stdout"
        }
      ]
    },
    {
      "cell_type": "code",
      "metadata": {
        "id": "oVcd0eeFL81L",
        "colab_type": "code",
        "colab": {}
      },
      "source": [
        "x_norm_train = pd.get_dummies(X_train)\n",
        "x_norm_test = pd.get_dummies(X_test)"
      ],
      "execution_count": 0,
      "outputs": []
    },
    {
      "cell_type": "code",
      "metadata": {
        "id": "0F6VuxqfP7gt",
        "colab_type": "code",
        "colab": {
          "base_uri": "https://localhost:8080/",
          "height": 101
        },
        "outputId": "6f61e9ec-d511-4245-860c-84dc9194542d"
      },
      "source": [
        "x_norm_train.info()"
      ],
      "execution_count": 33,
      "outputs": [
        {
          "output_type": "stream",
          "text": [
            "<class 'pandas.core.frame.DataFrame'>\n",
            "Int64Index: 16144 entries, 19409 to 15795\n",
            "Columns: 124 entries, distance to location_West End\n",
            "dtypes: float64(9), uint8(115)\n",
            "memory usage: 3.0 MB\n"
          ],
          "name": "stdout"
        }
      ]
    },
    {
      "cell_type": "code",
      "metadata": {
        "id": "lJzJ02YLRanY",
        "colab_type": "code",
        "colab": {}
      },
      "source": [
        "from sklearn.preprocessing import StandardScaler\n",
        "scaler = StandardScaler()\n",
        "scaler.fit(x_norm_train)\n",
        "x_std_train = scaler.transform(x_norm_train)\n",
        "x_std_test = scaler.transform(x_norm_test)"
      ],
      "execution_count": 0,
      "outputs": []
    },
    {
      "cell_type": "code",
      "metadata": {
        "id": "ltVl8Udh7pMG",
        "colab_type": "code",
        "colab": {
          "base_uri": "https://localhost:8080/",
          "height": 84
        },
        "outputId": "67ae1766-a1b2-48a3-80b9-c7de7d1cc0c5"
      },
      "source": [
        "print('Mean:',np.mean(x_std_train))\n",
        "print('Standard Deviation',np.std(x_std_train))\n",
        "print('Mean:',np.mean(x_std_test))\n",
        "print('Standard Deviation',np.std(x_std_test))\n"
      ],
      "execution_count": 35,
      "outputs": [
        {
          "output_type": "stream",
          "text": [
            "Mean: 2.6389936340957315e-17\n",
            "Standard Deviation 0.9959595794363183\n",
            "Mean: 0.0003560270262869531\n",
            "Standard Deviation 0.9944191703431782\n"
          ],
          "name": "stdout"
        }
      ]
    },
    {
      "cell_type": "code",
      "metadata": {
        "id": "Z_0WKwPs7yvw",
        "colab_type": "code",
        "colab": {}
      },
      "source": [
        "df_x_std_train = pd.DataFrame(x_std_train, columns=x_norm_train.columns)\n",
        "df_x_std_test = pd.DataFrame(x_std_test, columns=x_norm_test.columns)"
      ],
      "execution_count": 0,
      "outputs": []
    },
    {
      "cell_type": "code",
      "metadata": {
        "id": "fq8-wGPZGeaz",
        "colab_type": "code",
        "colab": {}
      },
      "source": [
        "from sklearn.decomposition import PCA\n",
        "pca = PCA(.95)"
      ],
      "execution_count": 0,
      "outputs": []
    },
    {
      "cell_type": "code",
      "metadata": {
        "id": "YuxW4RT6JyS9",
        "colab_type": "code",
        "colab": {
          "base_uri": "https://localhost:8080/",
          "height": 50
        },
        "outputId": "273ed3ce-4292-4064-8b87-ed809531b88c"
      },
      "source": [
        "pca.fit(df_x_std_train)"
      ],
      "execution_count": 38,
      "outputs": [
        {
          "output_type": "execute_result",
          "data": {
            "text/plain": [
              "PCA(copy=True, iterated_power='auto', n_components=0.95, random_state=None,\n",
              "    svd_solver='auto', tol=0.0, whiten=False)"
            ]
          },
          "metadata": {
            "tags": []
          },
          "execution_count": 38
        }
      ]
    },
    {
      "cell_type": "code",
      "metadata": {
        "id": "ovBIkLRYOyjO",
        "colab_type": "code",
        "colab": {
          "base_uri": "https://localhost:8080/",
          "height": 34
        },
        "outputId": "d7b69c61-a4f1-4247-c4e3-5ad4d124d71c"
      },
      "source": [
        "pca.n_components_"
      ],
      "execution_count": 39,
      "outputs": [
        {
          "output_type": "execute_result",
          "data": {
            "text/plain": [
              "57"
            ]
          },
          "metadata": {
            "tags": []
          },
          "execution_count": 39
        }
      ]
    },
    {
      "cell_type": "code",
      "metadata": {
        "id": "kp4-3CYTQjX-",
        "colab_type": "code",
        "colab": {}
      },
      "source": [
        "df_x_std_train = pca.transform(df_x_std_train)\n",
        "df_x_std_test = pca.transform(df_x_std_test)\n"
      ],
      "execution_count": 0,
      "outputs": []
    },
    {
      "cell_type": "code",
      "metadata": {
        "id": "ciB7bMA5VykV",
        "colab_type": "code",
        "colab": {
          "base_uri": "https://localhost:8080/",
          "height": 134
        },
        "outputId": "a2805425-7e33-40f5-9988-0d02211bf9da"
      },
      "source": [
        "from sklearn.ensemble import RandomForestRegressor\n",
        "rf = RandomForestRegressor(n_estimators = 50, random_state = 42)\n",
        "rf.fit(df_x_std_train, y_train.values.ravel())"
      ],
      "execution_count": 41,
      "outputs": [
        {
          "output_type": "execute_result",
          "data": {
            "text/plain": [
              "RandomForestRegressor(bootstrap=True, criterion='mse', max_depth=None,\n",
              "                      max_features='auto', max_leaf_nodes=None,\n",
              "                      min_impurity_decrease=0.0, min_impurity_split=None,\n",
              "                      min_samples_leaf=1, min_samples_split=2,\n",
              "                      min_weight_fraction_leaf=0.0, n_estimators=50,\n",
              "                      n_jobs=None, oob_score=False, random_state=42, verbose=0,\n",
              "                      warm_start=False)"
            ]
          },
          "metadata": {
            "tags": []
          },
          "execution_count": 41
        }
      ]
    },
    {
      "cell_type": "code",
      "metadata": {
        "id": "vQqwRQBo8dZs",
        "colab_type": "code",
        "colab": {
          "base_uri": "https://localhost:8080/",
          "height": 50
        },
        "outputId": "5b124bf7-ea05-4ec3-f895-bc7a36eefcc8"
      },
      "source": [
        "predictions = rf.predict(df_x_std_test[0].reshape(1,-1))\n",
        "errors = abs(predictions - y_test)\n",
        "print('Mean Absolute Error:', round(np.mean(errors), 2), 'degrees.')"
      ],
      "execution_count": 42,
      "outputs": [
        {
          "output_type": "stream",
          "text": [
            "Mean Absolute Error: price    6.58\n",
            "dtype: float64 degrees.\n"
          ],
          "name": "stdout"
        }
      ]
    },
    {
      "cell_type": "code",
      "metadata": {
        "id": "5h-3su4HAVqc",
        "colab_type": "code",
        "colab": {
          "base_uri": "https://localhost:8080/",
          "height": 50
        },
        "outputId": "2890883c-84af-4d70-ae03-fc595d1474f5"
      },
      "source": [
        "mape = 100 * (errors / y_test)\n",
        "from sklearn.model_selection import cross_validate\n",
        "accuracy = 100 - np.mean(mape)\n",
        "print('Accuracy:', round(accuracy, 2), '%.')"
      ],
      "execution_count": 43,
      "outputs": [
        {
          "output_type": "stream",
          "text": [
            "Accuracy: price    55.52\n",
            "dtype: float64 %.\n"
          ],
          "name": "stdout"
        }
      ]
    }
  ]
}